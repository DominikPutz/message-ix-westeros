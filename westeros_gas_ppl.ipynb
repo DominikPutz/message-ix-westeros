{
 "cells": [
  {
   "cell_type": "markdown",
   "id": "61976364",
   "metadata": {},
   "source": [
    "# Add a new technology “gas power plant”\n",
    "\n",
    "- Assume realistic cost parameters and lifetimes for this power plant type (include references your sources in the notebook)\n",
    "- Is there a “sweet spot” of prices on carbon such that coal, wind & gas are used at the same time?"
   ]
  },
  {
   "cell_type": "markdown",
   "id": "3f82ee13",
   "metadata": {},
   "source": [
    "## Introduction\n",
    "\n",
    "Since gas power plant is usually supplied with gas we include this within the O&M costs, because we do not want to introduce a whole new fuel type."
   ]
  },
  {
   "cell_type": "code",
   "execution_count": 1,
   "id": "a444b785",
   "metadata": {},
   "outputs": [
    {
     "data": {
      "application/javascript": [
       "IPython.OutputArea.prototype._should_scroll = function(lines) { return false; }"
      ],
      "text/plain": [
       "<IPython.core.display.Javascript object>"
      ]
     },
     "metadata": {},
     "output_type": "display_data"
    }
   ],
   "source": [
    "import pandas as pd\n",
    "import ixmp\n",
    "import message_ix\n",
    "\n",
    "from message_ix.util import make_df\n",
    "\n",
    "%matplotlib inline"
   ]
  },
  {
   "cell_type": "code",
   "execution_count": 42,
   "id": "89c49ef4",
   "metadata": {},
   "outputs": [],
   "source": [
    "mp = ixmp.Platform()"
   ]
  },
  {
   "cell_type": "markdown",
   "id": "f90e9700",
   "metadata": {},
   "source": [
    "### Making a clone of the existing scenario 'baseline'\n",
    "\n",
    "Loading the existing scenario 'baseline' and cloning to a new scenario 'gas_ppl' to add the gas power plant"
   ]
  },
  {
   "cell_type": "code",
   "execution_count": 43,
   "id": "68311f79",
   "metadata": {},
   "outputs": [],
   "source": [
    "model = 'Westeros Electrified'\n",
    "base = message_ix.Scenario(mp, model=model, scenario='baseline')\n",
    "scen = base.clone(model, 'gas_ppl', 'introduce new gas power plant', keep_solution=False)\n",
    "scen.check_out()"
   ]
  },
  {
   "cell_type": "code",
   "execution_count": 44,
   "id": "f1705529",
   "metadata": {},
   "outputs": [],
   "source": [
    "country = 'Westeros'\n",
    "model_horizon = scen.set('year')\n",
    "year_df = scen.vintage_and_active_years()\n",
    "vintage_years, act_years = year_df['year_vtg'], year_df['year_act']"
   ]
  },
  {
   "cell_type": "markdown",
   "id": "b4dbe854",
   "metadata": {},
   "source": [
    "### Create gas power plant"
   ]
  },
  {
   "cell_type": "code",
   "execution_count": 45,
   "id": "4637a557",
   "metadata": {},
   "outputs": [],
   "source": [
    "scen.add_set(\"technology\", 'gas_ppl')"
   ]
  },
  {
   "cell_type": "code",
   "execution_count": 46,
   "id": "6bde3868",
   "metadata": {},
   "outputs": [],
   "source": [
    "base = {\n",
    "    'node_loc': country,\n",
    "    'year_vtg': vintage_years,\n",
    "    'year_act': act_years,\n",
    "    'mode': 'standard',\n",
    "    'time': 'year',\n",
    "    'unit': '-',\n",
    "}\n",
    "\n",
    "base_output = make_df(base, node_dest=country, time_dest='year')\n",
    "\n",
    "gas_out = make_df(base_output, technology='gas_ppl', commodity='electricity', \n",
    "                   level='secondary', value=1., unit=\"GWa\")\n",
    "scen.add_par('output', gas_out)"
   ]
  },
  {
   "cell_type": "markdown",
   "id": "ddd7ab4f",
   "metadata": {},
   "source": [
    "### Operational Constraints and Parameters"
   ]
  },
  {
   "cell_type": "markdown",
   "id": "52089a52",
   "metadata": {},
   "source": [
    "Include Capacity factor of 1.0"
   ]
  },
  {
   "cell_type": "code",
   "execution_count": 47,
   "id": "bbe0a6e5",
   "metadata": {},
   "outputs": [],
   "source": [
    "base_capacity_factor = {\n",
    "    'node_loc': country,\n",
    "    'year_vtg': vintage_years,\n",
    "    'year_act': act_years,\n",
    "    'time': 'year',\n",
    "    'unit': '-',\n",
    "}\n",
    "\n",
    "gas_capacity = 1.0\n",
    "\n",
    "df = make_df(base_capacity_factor, technology='gas_ppl', value=gas_capacity)\n",
    "scen.add_par('capacity_factor', df)"
   ]
  },
  {
   "cell_type": "markdown",
   "id": "e1576c3b",
   "metadata": {},
   "source": [
    "Include lifetime same as coal = 20"
   ]
  },
  {
   "cell_type": "code",
   "execution_count": 48,
   "id": "d0a0c040",
   "metadata": {},
   "outputs": [],
   "source": [
    "base_technical_lifetime = {\n",
    "    'node_loc': country,\n",
    "    'year_vtg': model_horizon,\n",
    "    'unit': 'y',\n",
    "}\n",
    "\n",
    "df = make_df(base_technical_lifetime, technology='gas_ppl', value=20)\n",
    "scen.add_par('technical_lifetime', df)"
   ]
  },
  {
   "cell_type": "markdown",
   "id": "37aabd47",
   "metadata": {},
   "source": [
    "### Technological Diffusion and Contraction"
   ]
  },
  {
   "cell_type": "code",
   "execution_count": 49,
   "id": "61619640",
   "metadata": {},
   "outputs": [],
   "source": [
    "base_growth = {\n",
    "    'node_loc': country,\n",
    "    'year_act': model_horizon,\n",
    "    'time': 'year',\n",
    "    'unit': '-',\n",
    "}\n",
    "\n",
    "df = make_df(base_growth, technology='gas_ppl', value=0.1) \n",
    "scen.add_par('growth_activity_up', df)"
   ]
  },
  {
   "cell_type": "markdown",
   "id": "f3e6b992",
   "metadata": {},
   "source": [
    "### Defining an Energy Mix\n",
    "Gas has the same fraction as coal"
   ]
  },
  {
   "cell_type": "code",
   "execution_count": 50,
   "id": "19d2ceb1",
   "metadata": {},
   "outputs": [],
   "source": [
    "history = [690]\n",
    "\n",
    "base_activity = {\n",
    "    'node_loc': country,\n",
    "    'year_act': history,\n",
    "    'mode': 'standard',\n",
    "    'time': 'year',\n",
    "    'unit': 'GWa',\n",
    "}\n",
    "\n",
    "demand_per_year = 40 * 12 * 1000 / 8760\n",
    "historic_demand = 0.85 * demand_per_year\n",
    "grid_efficiency = 0.9\n",
    "historic_generation = historic_demand / grid_efficiency\n",
    "gas_fraction = 0.6\n",
    "gas_activity = (1 - gas_fraction) * historic_generation\n",
    "\n",
    "df = make_df(base_activity, technology='gas_ppl', value=gas_activity)\n",
    "scen.add_par('historical_activity', df)"
   ]
  },
  {
   "cell_type": "code",
   "execution_count": 51,
   "id": "23ee0bb0",
   "metadata": {},
   "outputs": [],
   "source": [
    "base_capacity = {\n",
    "    'node_loc': country,\n",
    "    'year_vtg': history,\n",
    "    'unit': 'GWa',\n",
    "}\n",
    "\n",
    "gas_cap = 1 / 10 / gas_capacity / 2\n",
    "    \n",
    "value = gas_activity * gas_cap\n",
    "df = make_df(base_capacity, technology='gas_ppl', value=value)\n",
    "scen.add_par('historical_new_capacity', df)"
   ]
  },
  {
   "cell_type": "markdown",
   "id": "93064391",
   "metadata": {},
   "source": [
    "### Investment costs\n",
    "| technology | USD/kw |\n",
    "|---------------|--------------|\n",
    "| Coal     | 500    |\n",
    "| Wind     | 1500        |\n",
    "| Bulb     | 5   |\n",
    "| Gas     | 750         |"
   ]
  },
  {
   "cell_type": "code",
   "execution_count": 52,
   "id": "406d2b96",
   "metadata": {},
   "outputs": [],
   "source": [
    "# in $ / kW (specific investment cost)\n",
    "base_inv_cost = {\n",
    "    'node_loc': country,\n",
    "    'year_vtg': model_horizon,\n",
    "    'unit': 'USD/kW',\n",
    "}\n",
    "\n",
    "df = make_df(base_inv_cost, technology='gas_ppl', value=750)\n",
    "scen.add_par('inv_cost', df)"
   ]
  },
  {
   "cell_type": "markdown",
   "id": "89ba05b9",
   "metadata": {},
   "source": [
    "### Fixed O&M Costs\n",
    "| technology | USD/kw |\n",
    "|---------------|--------------|\n",
    "| Coal     | 30    |\n",
    "| Wind     | 10        |\n",
    "| Gas     | 25         |"
   ]
  },
  {
   "cell_type": "code",
   "execution_count": 53,
   "id": "18db0a58",
   "metadata": {},
   "outputs": [],
   "source": [
    "base_fix_cost = {\n",
    "    'node_loc': country,\n",
    "    'year_vtg': vintage_years,\n",
    "    'year_act': act_years,\n",
    "    'unit': 'USD/kWa',\n",
    "}\n",
    "\n",
    "df = make_df(base_fix_cost, technology='gas_ppl', value=25)\n",
    "scen.add_par('fix_cost', df)"
   ]
  },
  {
   "cell_type": "markdown",
   "id": "1619f119",
   "metadata": {},
   "source": [
    "### Variable O&M Costs\n",
    "\n",
    "| technology | USD/kw |\n",
    "|---------------|--------------|\n",
    "| Coal     | 30    |\n",
    "| Gas     | 40         |"
   ]
  },
  {
   "cell_type": "code",
   "execution_count": 54,
   "id": "6646a5be",
   "metadata": {},
   "outputs": [],
   "source": [
    "base_var_cost = {\n",
    "    'node_loc': country,\n",
    "    'year_vtg': vintage_years,\n",
    "    'year_act': act_years,\n",
    "    'mode': 'standard',\n",
    "    'time': 'year',\n",
    "    'unit': 'USD/kWa',\n",
    "}"
   ]
  },
  {
   "cell_type": "code",
   "execution_count": 55,
   "id": "6e736d5a",
   "metadata": {},
   "outputs": [],
   "source": [
    "df = make_df(base_var_cost, technology='gas_ppl', value=40)\n",
    "scen.add_par('var_cost', df)"
   ]
  },
  {
   "cell_type": "markdown",
   "id": "e6b6a964",
   "metadata": {},
   "source": [
    "## Run model"
   ]
  },
  {
   "cell_type": "code",
   "execution_count": 56,
   "id": "e99cd3b9",
   "metadata": {},
   "outputs": [],
   "source": [
    "scen.commit(comment='introducing gas power plant')"
   ]
  },
  {
   "cell_type": "code",
   "execution_count": 57,
   "id": "fe8d904f",
   "metadata": {},
   "outputs": [],
   "source": [
    "scen.solve()"
   ]
  },
  {
   "cell_type": "code",
   "execution_count": 58,
   "id": "819414fa",
   "metadata": {},
   "outputs": [
    {
     "data": {
      "text/plain": [
       "320619.40625"
      ]
     },
     "execution_count": 58,
     "metadata": {},
     "output_type": "execute_result"
    }
   ],
   "source": [
    "scen.var('OBJ')['lvl']"
   ]
  },
  {
   "cell_type": "code",
   "execution_count": 75,
   "id": "ee851f3a",
   "metadata": {},
   "outputs": [
    {
     "data": {
      "text/plain": [
       "['OBJ',\n",
       " 'EXT',\n",
       " 'STOCK',\n",
       " 'CAP_NEW',\n",
       " 'CAP',\n",
       " 'ACT',\n",
       " 'EMISS',\n",
       " 'LAND',\n",
       " 'REL',\n",
       " 'DEMAND',\n",
       " 'PRICE_COMMODITY',\n",
       " 'PRICE_EMISSION',\n",
       " 'COST_NODAL',\n",
       " 'COST_NODAL_NET',\n",
       " 'GDP',\n",
       " 'I',\n",
       " 'C']"
      ]
     },
     "execution_count": 75,
     "metadata": {},
     "output_type": "execute_result"
    }
   ],
   "source": [
    "scen.var_list()"
   ]
  },
  {
   "cell_type": "markdown",
   "id": "d8935c22",
   "metadata": {},
   "source": [
    "## Results"
   ]
  },
  {
   "cell_type": "code",
   "execution_count": 65,
   "id": "0d15d703",
   "metadata": {},
   "outputs": [],
   "source": [
    "# Create a Reporter object to describe and carry out reporting\n",
    "# calculations and operations (like plotting) based on `scenario`\n",
    "from message_ix.reporting import Reporter\n",
    "\n",
    "rep = Reporter.from_scenario(scen)\n",
    "\n",
    "# Add keys like \"plot activity\" to describe reporting operations.\n",
    "# See tutorial/utils/plotting.py\n",
    "from message_ix.util.tutorial import prepare_plots\n",
    "\n",
    "prepare_plots(rep)"
   ]
  },
  {
   "cell_type": "markdown",
   "id": "455266be",
   "metadata": {},
   "source": [
    "### Activity\n",
    "How much energy is generated in each time period from the different potential sources?"
   ]
  },
  {
   "cell_type": "code",
   "execution_count": 68,
   "id": "4ce6d778",
   "metadata": {},
   "outputs": [
    {
     "data": {
      "text/plain": [
       "<AxesSubplot:title={'center':'Westeros Energy System Activity'}, xlabel='Year', ylabel='GWa'>"
      ]
     },
     "execution_count": 68,
     "metadata": {},
     "output_type": "execute_result"
    },
    {
     "data": {
      "image/png": "[encoded data removed]",
      "text/plain": [
       "<Figure size 432x288 with 1 Axes>"
      ]
     },
     "metadata": {
      "needs_background": "light"
     },
     "output_type": "display_data"
    }
   ],
   "source": [
    "# Only show a subset of technologies in the follow plots;\n",
    "# e.g. exclude \"bulb\" and \"grid\"\n",
    "rep.set_filters(t=[\"coal_ppl\", \"wind_ppl\", \"gas_ppl\"])\n",
    "\n",
    "# Trigger the calculation and plotting\n",
    "rep.get(\"plot activity\")"
   ]
  },
  {
   "cell_type": "code",
   "execution_count": 128,
   "id": "6a9698a8",
   "metadata": {},
   "outputs": [
    {
     "data": {
      "text/html": [
       "<div>\n",
       "<style scoped>\n",
       "    .dataframe tbody tr th:only-of-type {\n",
       "        vertical-align: middle;\n",
       "    }\n",
       "\n",
       "    .dataframe tbody tr th {\n",
       "        vertical-align: top;\n",
       "    }\n",
       "\n",
       "    .dataframe thead th {\n",
       "        text-align: right;\n",
       "    }\n",
       "</style>\n",
       "<table border=\"1\" class=\"dataframe\">\n",
       "  <thead>\n",
       "    <tr style=\"text-align: right;\">\n",
       "      <th></th>\n",
       "      <th>node_loc</th>\n",
       "      <th>technology</th>\n",
       "      <th>year_vtg</th>\n",
       "      <th>year_act</th>\n",
       "      <th>mode</th>\n",
       "      <th>time</th>\n",
       "      <th>lvl</th>\n",
       "      <th>mrg</th>\n",
       "    </tr>\n",
       "  </thead>\n",
       "  <tbody>\n",
       "    <tr>\n",
       "      <th>0</th>\n",
       "      <td>Westeros</td>\n",
       "      <td>coal_ppl</td>\n",
       "      <td>690</td>\n",
       "      <td>700</td>\n",
       "      <td>standard</td>\n",
       "      <td>year</td>\n",
       "      <td>15.525114</td>\n",
       "      <td>0.000000</td>\n",
       "    </tr>\n",
       "    <tr>\n",
       "      <th>1</th>\n",
       "      <td>Westeros</td>\n",
       "      <td>coal_ppl</td>\n",
       "      <td>700</td>\n",
       "      <td>700</td>\n",
       "      <td>standard</td>\n",
       "      <td>year</td>\n",
       "      <td>65.011181</td>\n",
       "      <td>0.000000</td>\n",
       "    </tr>\n",
       "    <tr>\n",
       "      <th>2</th>\n",
       "      <td>Westeros</td>\n",
       "      <td>coal_ppl</td>\n",
       "      <td>700</td>\n",
       "      <td>710</td>\n",
       "      <td>standard</td>\n",
       "      <td>year</td>\n",
       "      <td>65.011181</td>\n",
       "      <td>0.000000</td>\n",
       "    </tr>\n",
       "    <tr>\n",
       "      <th>3</th>\n",
       "      <td>Westeros</td>\n",
       "      <td>coal_ppl</td>\n",
       "      <td>710</td>\n",
       "      <td>710</td>\n",
       "      <td>standard</td>\n",
       "      <td>year</td>\n",
       "      <td>91.780822</td>\n",
       "      <td>0.000000</td>\n",
       "    </tr>\n",
       "    <tr>\n",
       "      <th>4</th>\n",
       "      <td>Westeros</td>\n",
       "      <td>coal_ppl</td>\n",
       "      <td>710</td>\n",
       "      <td>720</td>\n",
       "      <td>standard</td>\n",
       "      <td>year</td>\n",
       "      <td>91.780822</td>\n",
       "      <td>0.000000</td>\n",
       "    </tr>\n",
       "    <tr>\n",
       "      <th>5</th>\n",
       "      <td>Westeros</td>\n",
       "      <td>coal_ppl</td>\n",
       "      <td>720</td>\n",
       "      <td>720</td>\n",
       "      <td>standard</td>\n",
       "      <td>year</td>\n",
       "      <td>119.330289</td>\n",
       "      <td>0.000000</td>\n",
       "    </tr>\n",
       "    <tr>\n",
       "      <th>6</th>\n",
       "      <td>Westeros</td>\n",
       "      <td>wind_ppl</td>\n",
       "      <td>690</td>\n",
       "      <td>700</td>\n",
       "      <td>standard</td>\n",
       "      <td>year</td>\n",
       "      <td>10.350076</td>\n",
       "      <td>0.000000</td>\n",
       "    </tr>\n",
       "    <tr>\n",
       "      <th>7</th>\n",
       "      <td>Westeros</td>\n",
       "      <td>wind_ppl</td>\n",
       "      <td>700</td>\n",
       "      <td>700</td>\n",
       "      <td>standard</td>\n",
       "      <td>year</td>\n",
       "      <td>0.000000</td>\n",
       "      <td>0.000000</td>\n",
       "    </tr>\n",
       "    <tr>\n",
       "      <th>8</th>\n",
       "      <td>Westeros</td>\n",
       "      <td>wind_ppl</td>\n",
       "      <td>700</td>\n",
       "      <td>710</td>\n",
       "      <td>standard</td>\n",
       "      <td>year</td>\n",
       "      <td>0.000000</td>\n",
       "      <td>0.000000</td>\n",
       "    </tr>\n",
       "    <tr>\n",
       "      <th>9</th>\n",
       "      <td>Westeros</td>\n",
       "      <td>wind_ppl</td>\n",
       "      <td>710</td>\n",
       "      <td>710</td>\n",
       "      <td>standard</td>\n",
       "      <td>year</td>\n",
       "      <td>0.000000</td>\n",
       "      <td>0.000000</td>\n",
       "    </tr>\n",
       "    <tr>\n",
       "      <th>10</th>\n",
       "      <td>Westeros</td>\n",
       "      <td>wind_ppl</td>\n",
       "      <td>710</td>\n",
       "      <td>720</td>\n",
       "      <td>standard</td>\n",
       "      <td>year</td>\n",
       "      <td>0.000000</td>\n",
       "      <td>0.000000</td>\n",
       "    </tr>\n",
       "    <tr>\n",
       "      <th>11</th>\n",
       "      <td>Westeros</td>\n",
       "      <td>wind_ppl</td>\n",
       "      <td>720</td>\n",
       "      <td>720</td>\n",
       "      <td>standard</td>\n",
       "      <td>year</td>\n",
       "      <td>0.000000</td>\n",
       "      <td>555.065701</td>\n",
       "    </tr>\n",
       "    <tr>\n",
       "      <th>12</th>\n",
       "      <td>Westeros</td>\n",
       "      <td>grid</td>\n",
       "      <td>700</td>\n",
       "      <td>700</td>\n",
       "      <td>standard</td>\n",
       "      <td>year</td>\n",
       "      <td>111.111111</td>\n",
       "      <td>0.000000</td>\n",
       "    </tr>\n",
       "    <tr>\n",
       "      <th>13</th>\n",
       "      <td>Westeros</td>\n",
       "      <td>grid</td>\n",
       "      <td>710</td>\n",
       "      <td>710</td>\n",
       "      <td>standard</td>\n",
       "      <td>year</td>\n",
       "      <td>166.666667</td>\n",
       "      <td>0.000000</td>\n",
       "    </tr>\n",
       "    <tr>\n",
       "      <th>14</th>\n",
       "      <td>Westeros</td>\n",
       "      <td>grid</td>\n",
       "      <td>720</td>\n",
       "      <td>720</td>\n",
       "      <td>standard</td>\n",
       "      <td>year</td>\n",
       "      <td>211.111111</td>\n",
       "      <td>0.000000</td>\n",
       "    </tr>\n",
       "    <tr>\n",
       "      <th>15</th>\n",
       "      <td>Westeros</td>\n",
       "      <td>bulb</td>\n",
       "      <td>700</td>\n",
       "      <td>700</td>\n",
       "      <td>standard</td>\n",
       "      <td>year</td>\n",
       "      <td>100.000000</td>\n",
       "      <td>0.000000</td>\n",
       "    </tr>\n",
       "    <tr>\n",
       "      <th>16</th>\n",
       "      <td>Westeros</td>\n",
       "      <td>bulb</td>\n",
       "      <td>710</td>\n",
       "      <td>710</td>\n",
       "      <td>standard</td>\n",
       "      <td>year</td>\n",
       "      <td>150.000000</td>\n",
       "      <td>0.000000</td>\n",
       "    </tr>\n",
       "    <tr>\n",
       "      <th>17</th>\n",
       "      <td>Westeros</td>\n",
       "      <td>bulb</td>\n",
       "      <td>720</td>\n",
       "      <td>720</td>\n",
       "      <td>standard</td>\n",
       "      <td>year</td>\n",
       "      <td>190.000000</td>\n",
       "      <td>0.000000</td>\n",
       "    </tr>\n",
       "    <tr>\n",
       "      <th>18</th>\n",
       "      <td>Westeros</td>\n",
       "      <td>gas_ppl</td>\n",
       "      <td>690</td>\n",
       "      <td>700</td>\n",
       "      <td>standard</td>\n",
       "      <td>year</td>\n",
       "      <td>10.350076</td>\n",
       "      <td>0.000000</td>\n",
       "    </tr>\n",
       "    <tr>\n",
       "      <th>19</th>\n",
       "      <td>Westeros</td>\n",
       "      <td>gas_ppl</td>\n",
       "      <td>700</td>\n",
       "      <td>700</td>\n",
       "      <td>standard</td>\n",
       "      <td>year</td>\n",
       "      <td>9.874663</td>\n",
       "      <td>0.000000</td>\n",
       "    </tr>\n",
       "    <tr>\n",
       "      <th>20</th>\n",
       "      <td>Westeros</td>\n",
       "      <td>gas_ppl</td>\n",
       "      <td>700</td>\n",
       "      <td>710</td>\n",
       "      <td>standard</td>\n",
       "      <td>year</td>\n",
       "      <td>9.874663</td>\n",
       "      <td>0.000000</td>\n",
       "    </tr>\n",
       "    <tr>\n",
       "      <th>21</th>\n",
       "      <td>Westeros</td>\n",
       "      <td>gas_ppl</td>\n",
       "      <td>710</td>\n",
       "      <td>710</td>\n",
       "      <td>standard</td>\n",
       "      <td>year</td>\n",
       "      <td>0.000000</td>\n",
       "      <td>0.000000</td>\n",
       "    </tr>\n",
       "    <tr>\n",
       "      <th>22</th>\n",
       "      <td>Westeros</td>\n",
       "      <td>gas_ppl</td>\n",
       "      <td>710</td>\n",
       "      <td>720</td>\n",
       "      <td>standard</td>\n",
       "      <td>year</td>\n",
       "      <td>0.000000</td>\n",
       "      <td>0.000000</td>\n",
       "    </tr>\n",
       "    <tr>\n",
       "      <th>23</th>\n",
       "      <td>Westeros</td>\n",
       "      <td>gas_ppl</td>\n",
       "      <td>720</td>\n",
       "      <td>720</td>\n",
       "      <td>standard</td>\n",
       "      <td>year</td>\n",
       "      <td>0.000000</td>\n",
       "      <td>58.790303</td>\n",
       "    </tr>\n",
       "  </tbody>\n",
       "</table>\n",
       "</div>"
      ],
      "text/plain": [
       "    node_loc technology  year_vtg  year_act      mode  time         lvl  \\\n",
       "0   Westeros   coal_ppl       690       700  standard  year   15.525114   \n",
       "1   Westeros   coal_ppl       700       700  standard  year   65.011181   \n",
       "2   Westeros   coal_ppl       700       710  standard  year   65.011181   \n",
       "3   Westeros   coal_ppl       710       710  standard  year   91.780822   \n",
       "4   Westeros   coal_ppl       710       720  standard  year   91.780822   \n",
       "5   Westeros   coal_ppl       720       720  standard  year  119.330289   \n",
       "6   Westeros   wind_ppl       690       700  standard  year   10.350076   \n",
       "7   Westeros   wind_ppl       700       700  standard  year    0.000000   \n",
       "8   Westeros   wind_ppl       700       710  standard  year    0.000000   \n",
       "9   Westeros   wind_ppl       710       710  standard  year    0.000000   \n",
       "10  Westeros   wind_ppl       710       720  standard  year    0.000000   \n",
       "11  Westeros   wind_ppl       720       720  standard  year    0.000000   \n",
       "12  Westeros       grid       700       700  standard  year  111.111111   \n",
       "13  Westeros       grid       710       710  standard  year  166.666667   \n",
       "14  Westeros       grid       720       720  standard  year  211.111111   \n",
       "15  Westeros       bulb       700       700  standard  year  100.000000   \n",
       "16  Westeros       bulb       710       710  standard  year  150.000000   \n",
       "17  Westeros       bulb       720       720  standard  year  190.000000   \n",
       "18  Westeros    gas_ppl       690       700  standard  year   10.350076   \n",
       "19  Westeros    gas_ppl       700       700  standard  year    9.874663   \n",
       "20  Westeros    gas_ppl       700       710  standard  year    9.874663   \n",
       "21  Westeros    gas_ppl       710       710  standard  year    0.000000   \n",
       "22  Westeros    gas_ppl       710       720  standard  year    0.000000   \n",
       "23  Westeros    gas_ppl       720       720  standard  year    0.000000   \n",
       "\n",
       "           mrg  \n",
       "0     0.000000  \n",
       "1     0.000000  \n",
       "2     0.000000  \n",
       "3     0.000000  \n",
       "4     0.000000  \n",
       "5     0.000000  \n",
       "6     0.000000  \n",
       "7     0.000000  \n",
       "8     0.000000  \n",
       "9     0.000000  \n",
       "10    0.000000  \n",
       "11  555.065701  \n",
       "12    0.000000  \n",
       "13    0.000000  \n",
       "14    0.000000  \n",
       "15    0.000000  \n",
       "16    0.000000  \n",
       "17    0.000000  \n",
       "18    0.000000  \n",
       "19    0.000000  \n",
       "20    0.000000  \n",
       "21    0.000000  \n",
       "22    0.000000  \n",
       "23   58.790303  "
      ]
     },
     "execution_count": 128,
     "metadata": {},
     "output_type": "execute_result"
    }
   ],
   "source": [
    "activity = scen.var('ACT')\n",
    "activity"
   ]
  },
  {
   "cell_type": "code",
   "execution_count": 129,
   "id": "95825445",
   "metadata": {},
   "outputs": [
    {
     "name": "stdout",
     "output_type": "stream",
     "text": [
      "Coal: 448.439410003166\n",
      "Wind: 10.350076103500761\n",
      "Gas: 30.09940278222215\n"
     ]
    }
   ],
   "source": [
    "print('Coal:', activity.loc[activity['technology'] == 'coal_ppl']['lvl'].sum())\n",
    "print('Wind:', activity.loc[activity['technology'] == 'wind_ppl']['lvl'].sum())\n",
    "print('Gas:', activity.loc[activity['technology'] == 'gas_ppl']['lvl'].sum())"
   ]
  },
  {
   "cell_type": "markdown",
   "id": "12f80f29",
   "metadata": {},
   "source": [
    "### Capacity\n",
    "How much capacity of each plant is installed in each period?"
   ]
  },
  {
   "cell_type": "code",
   "execution_count": 67,
   "id": "def20245",
   "metadata": {},
   "outputs": [
    {
     "data": {
      "text/plain": [
       "<AxesSubplot:title={'center':'Westeros Energy System Capacity'}, xlabel='Year', ylabel='GW'>"
      ]
     },
     "execution_count": 67,
     "metadata": {},
     "output_type": "execute_result"
    },
    {
     "data": {
      "image/png": "[encoded data removed]",
      "text/plain": [
       "<Figure size 432x288 with 1 Axes>"
      ]
     },
     "metadata": {
      "needs_background": "light"
     },
     "output_type": "display_data"
    }
   ],
   "source": [
    "# Create a different plot. The same filters are still active.\n",
    "rep.get(\"plot capacity\")"
   ]
  },
  {
   "cell_type": "code",
   "execution_count": 123,
   "id": "69694e2f",
   "metadata": {},
   "outputs": [
    {
     "data": {
      "text/html": [
       "<div>\n",
       "<style scoped>\n",
       "    .dataframe tbody tr th:only-of-type {\n",
       "        vertical-align: middle;\n",
       "    }\n",
       "\n",
       "    .dataframe tbody tr th {\n",
       "        vertical-align: top;\n",
       "    }\n",
       "\n",
       "    .dataframe thead th {\n",
       "        text-align: right;\n",
       "    }\n",
       "</style>\n",
       "<table border=\"1\" class=\"dataframe\">\n",
       "  <thead>\n",
       "    <tr style=\"text-align: right;\">\n",
       "      <th></th>\n",
       "      <th>node_loc</th>\n",
       "      <th>technology</th>\n",
       "      <th>year_vtg</th>\n",
       "      <th>year_act</th>\n",
       "      <th>lvl</th>\n",
       "      <th>mrg</th>\n",
       "    </tr>\n",
       "  </thead>\n",
       "  <tbody>\n",
       "    <tr>\n",
       "      <th>0</th>\n",
       "      <td>Westeros</td>\n",
       "      <td>coal_ppl</td>\n",
       "      <td>690</td>\n",
       "      <td>700</td>\n",
       "      <td>15.525114</td>\n",
       "      <td>0.000000</td>\n",
       "    </tr>\n",
       "    <tr>\n",
       "      <th>1</th>\n",
       "      <td>Westeros</td>\n",
       "      <td>coal_ppl</td>\n",
       "      <td>700</td>\n",
       "      <td>700</td>\n",
       "      <td>65.011181</td>\n",
       "      <td>0.000000</td>\n",
       "    </tr>\n",
       "    <tr>\n",
       "      <th>2</th>\n",
       "      <td>Westeros</td>\n",
       "      <td>coal_ppl</td>\n",
       "      <td>700</td>\n",
       "      <td>710</td>\n",
       "      <td>65.011181</td>\n",
       "      <td>0.000000</td>\n",
       "    </tr>\n",
       "    <tr>\n",
       "      <th>3</th>\n",
       "      <td>Westeros</td>\n",
       "      <td>coal_ppl</td>\n",
       "      <td>710</td>\n",
       "      <td>710</td>\n",
       "      <td>91.780822</td>\n",
       "      <td>0.000000</td>\n",
       "    </tr>\n",
       "    <tr>\n",
       "      <th>4</th>\n",
       "      <td>Westeros</td>\n",
       "      <td>coal_ppl</td>\n",
       "      <td>710</td>\n",
       "      <td>720</td>\n",
       "      <td>91.780822</td>\n",
       "      <td>0.000000</td>\n",
       "    </tr>\n",
       "    <tr>\n",
       "      <th>5</th>\n",
       "      <td>Westeros</td>\n",
       "      <td>coal_ppl</td>\n",
       "      <td>720</td>\n",
       "      <td>720</td>\n",
       "      <td>119.330289</td>\n",
       "      <td>0.000000</td>\n",
       "    </tr>\n",
       "    <tr>\n",
       "      <th>6</th>\n",
       "      <td>Westeros</td>\n",
       "      <td>wind_ppl</td>\n",
       "      <td>690</td>\n",
       "      <td>700</td>\n",
       "      <td>28.750211</td>\n",
       "      <td>0.000000</td>\n",
       "    </tr>\n",
       "    <tr>\n",
       "      <th>7</th>\n",
       "      <td>Westeros</td>\n",
       "      <td>wind_ppl</td>\n",
       "      <td>700</td>\n",
       "      <td>700</td>\n",
       "      <td>0.000000</td>\n",
       "      <td>782.779778</td>\n",
       "    </tr>\n",
       "    <tr>\n",
       "      <th>8</th>\n",
       "      <td>Westeros</td>\n",
       "      <td>wind_ppl</td>\n",
       "      <td>700</td>\n",
       "      <td>710</td>\n",
       "      <td>0.000000</td>\n",
       "      <td>0.000000</td>\n",
       "    </tr>\n",
       "    <tr>\n",
       "      <th>9</th>\n",
       "      <td>Westeros</td>\n",
       "      <td>wind_ppl</td>\n",
       "      <td>710</td>\n",
       "      <td>710</td>\n",
       "      <td>0.000000</td>\n",
       "      <td>536.994448</td>\n",
       "    </tr>\n",
       "    <tr>\n",
       "      <th>10</th>\n",
       "      <td>Westeros</td>\n",
       "      <td>wind_ppl</td>\n",
       "      <td>710</td>\n",
       "      <td>720</td>\n",
       "      <td>0.000000</td>\n",
       "      <td>0.000000</td>\n",
       "    </tr>\n",
       "    <tr>\n",
       "      <th>11</th>\n",
       "      <td>Westeros</td>\n",
       "      <td>wind_ppl</td>\n",
       "      <td>720</td>\n",
       "      <td>720</td>\n",
       "      <td>0.000000</td>\n",
       "      <td>0.000000</td>\n",
       "    </tr>\n",
       "    <tr>\n",
       "      <th>12</th>\n",
       "      <td>Westeros</td>\n",
       "      <td>bulb</td>\n",
       "      <td>700</td>\n",
       "      <td>700</td>\n",
       "      <td>100.000000</td>\n",
       "      <td>0.000000</td>\n",
       "    </tr>\n",
       "    <tr>\n",
       "      <th>13</th>\n",
       "      <td>Westeros</td>\n",
       "      <td>bulb</td>\n",
       "      <td>710</td>\n",
       "      <td>710</td>\n",
       "      <td>150.000000</td>\n",
       "      <td>0.000000</td>\n",
       "    </tr>\n",
       "    <tr>\n",
       "      <th>14</th>\n",
       "      <td>Westeros</td>\n",
       "      <td>bulb</td>\n",
       "      <td>720</td>\n",
       "      <td>720</td>\n",
       "      <td>190.000000</td>\n",
       "      <td>0.000000</td>\n",
       "    </tr>\n",
       "    <tr>\n",
       "      <th>15</th>\n",
       "      <td>Westeros</td>\n",
       "      <td>gas_ppl</td>\n",
       "      <td>690</td>\n",
       "      <td>700</td>\n",
       "      <td>10.350076</td>\n",
       "      <td>0.000000</td>\n",
       "    </tr>\n",
       "    <tr>\n",
       "      <th>16</th>\n",
       "      <td>Westeros</td>\n",
       "      <td>gas_ppl</td>\n",
       "      <td>700</td>\n",
       "      <td>700</td>\n",
       "      <td>9.874663</td>\n",
       "      <td>0.000000</td>\n",
       "    </tr>\n",
       "    <tr>\n",
       "      <th>17</th>\n",
       "      <td>Westeros</td>\n",
       "      <td>gas_ppl</td>\n",
       "      <td>700</td>\n",
       "      <td>710</td>\n",
       "      <td>9.874663</td>\n",
       "      <td>0.000000</td>\n",
       "    </tr>\n",
       "    <tr>\n",
       "      <th>18</th>\n",
       "      <td>Westeros</td>\n",
       "      <td>gas_ppl</td>\n",
       "      <td>710</td>\n",
       "      <td>710</td>\n",
       "      <td>0.000000</td>\n",
       "      <td>156.765466</td>\n",
       "    </tr>\n",
       "    <tr>\n",
       "      <th>19</th>\n",
       "      <td>Westeros</td>\n",
       "      <td>gas_ppl</td>\n",
       "      <td>710</td>\n",
       "      <td>720</td>\n",
       "      <td>0.000000</td>\n",
       "      <td>0.000000</td>\n",
       "    </tr>\n",
       "    <tr>\n",
       "      <th>20</th>\n",
       "      <td>Westeros</td>\n",
       "      <td>gas_ppl</td>\n",
       "      <td>720</td>\n",
       "      <td>720</td>\n",
       "      <td>0.000000</td>\n",
       "      <td>0.000000</td>\n",
       "    </tr>\n",
       "  </tbody>\n",
       "</table>\n",
       "</div>"
      ],
      "text/plain": [
       "    node_loc technology  year_vtg  year_act         lvl         mrg\n",
       "0   Westeros   coal_ppl       690       700   15.525114    0.000000\n",
       "1   Westeros   coal_ppl       700       700   65.011181    0.000000\n",
       "2   Westeros   coal_ppl       700       710   65.011181    0.000000\n",
       "3   Westeros   coal_ppl       710       710   91.780822    0.000000\n",
       "4   Westeros   coal_ppl       710       720   91.780822    0.000000\n",
       "5   Westeros   coal_ppl       720       720  119.330289    0.000000\n",
       "6   Westeros   wind_ppl       690       700   28.750211    0.000000\n",
       "7   Westeros   wind_ppl       700       700    0.000000  782.779778\n",
       "8   Westeros   wind_ppl       700       710    0.000000    0.000000\n",
       "9   Westeros   wind_ppl       710       710    0.000000  536.994448\n",
       "10  Westeros   wind_ppl       710       720    0.000000    0.000000\n",
       "11  Westeros   wind_ppl       720       720    0.000000    0.000000\n",
       "12  Westeros       bulb       700       700  100.000000    0.000000\n",
       "13  Westeros       bulb       710       710  150.000000    0.000000\n",
       "14  Westeros       bulb       720       720  190.000000    0.000000\n",
       "15  Westeros    gas_ppl       690       700   10.350076    0.000000\n",
       "16  Westeros    gas_ppl       700       700    9.874663    0.000000\n",
       "17  Westeros    gas_ppl       700       710    9.874663    0.000000\n",
       "18  Westeros    gas_ppl       710       710    0.000000  156.765466\n",
       "19  Westeros    gas_ppl       710       720    0.000000    0.000000\n",
       "20  Westeros    gas_ppl       720       720    0.000000    0.000000"
      ]
     },
     "execution_count": 123,
     "metadata": {},
     "output_type": "execute_result"
    }
   ],
   "source": [
    "capacity = scen.var('CAP')\n",
    "capacity"
   ]
  },
  {
   "cell_type": "code",
   "execution_count": 125,
   "id": "762b2377",
   "metadata": {},
   "outputs": [
    {
     "name": "stdout",
     "output_type": "stream",
     "text": [
      "Coal: 448.439410003166\n",
      "Wind: 28.750211398613228\n",
      "Gas: 30.09940278222215\n"
     ]
    }
   ],
   "source": [
    "print('Coal:', capacity.loc[capacity['technology'] == 'coal_ppl']['lvl'].sum())\n",
    "print('Wind:', capacity.loc[capacity['technology'] == 'wind_ppl']['lvl'].sum())\n",
    "print('Gas:', capacity.loc[capacity['technology'] == 'gas_ppl']['lvl'].sum())"
   ]
  },
  {
   "cell_type": "markdown",
   "id": "bdc5d667",
   "metadata": {},
   "source": [
    "### New Capacity\n",
    "How much new capacity of each plant is installed overall?"
   ]
  },
  {
   "cell_type": "code",
   "execution_count": 130,
   "id": "6cbec944",
   "metadata": {},
   "outputs": [
    {
     "data": {
      "text/html": [
       "<div>\n",
       "<style scoped>\n",
       "    .dataframe tbody tr th:only-of-type {\n",
       "        vertical-align: middle;\n",
       "    }\n",
       "\n",
       "    .dataframe tbody tr th {\n",
       "        vertical-align: top;\n",
       "    }\n",
       "\n",
       "    .dataframe thead th {\n",
       "        text-align: right;\n",
       "    }\n",
       "</style>\n",
       "<table border=\"1\" class=\"dataframe\">\n",
       "  <thead>\n",
       "    <tr style=\"text-align: right;\">\n",
       "      <th></th>\n",
       "      <th>node_loc</th>\n",
       "      <th>technology</th>\n",
       "      <th>year_vtg</th>\n",
       "      <th>lvl</th>\n",
       "      <th>mrg</th>\n",
       "    </tr>\n",
       "  </thead>\n",
       "  <tbody>\n",
       "    <tr>\n",
       "      <th>0</th>\n",
       "      <td>Westeros</td>\n",
       "      <td>coal_ppl</td>\n",
       "      <td>700</td>\n",
       "      <td>6.501118</td>\n",
       "      <td>0.0</td>\n",
       "    </tr>\n",
       "    <tr>\n",
       "      <th>1</th>\n",
       "      <td>Westeros</td>\n",
       "      <td>coal_ppl</td>\n",
       "      <td>710</td>\n",
       "      <td>9.178082</td>\n",
       "      <td>0.0</td>\n",
       "    </tr>\n",
       "    <tr>\n",
       "      <th>2</th>\n",
       "      <td>Westeros</td>\n",
       "      <td>coal_ppl</td>\n",
       "      <td>720</td>\n",
       "      <td>11.933029</td>\n",
       "      <td>0.0</td>\n",
       "    </tr>\n",
       "    <tr>\n",
       "      <th>3</th>\n",
       "      <td>Westeros</td>\n",
       "      <td>wind_ppl</td>\n",
       "      <td>700</td>\n",
       "      <td>0.000000</td>\n",
       "      <td>0.0</td>\n",
       "    </tr>\n",
       "    <tr>\n",
       "      <th>4</th>\n",
       "      <td>Westeros</td>\n",
       "      <td>wind_ppl</td>\n",
       "      <td>710</td>\n",
       "      <td>0.000000</td>\n",
       "      <td>0.0</td>\n",
       "    </tr>\n",
       "    <tr>\n",
       "      <th>5</th>\n",
       "      <td>Westeros</td>\n",
       "      <td>wind_ppl</td>\n",
       "      <td>720</td>\n",
       "      <td>0.000000</td>\n",
       "      <td>0.0</td>\n",
       "    </tr>\n",
       "    <tr>\n",
       "      <th>6</th>\n",
       "      <td>Westeros</td>\n",
       "      <td>bulb</td>\n",
       "      <td>700</td>\n",
       "      <td>100.000000</td>\n",
       "      <td>0.0</td>\n",
       "    </tr>\n",
       "    <tr>\n",
       "      <th>7</th>\n",
       "      <td>Westeros</td>\n",
       "      <td>bulb</td>\n",
       "      <td>710</td>\n",
       "      <td>150.000000</td>\n",
       "      <td>0.0</td>\n",
       "    </tr>\n",
       "    <tr>\n",
       "      <th>8</th>\n",
       "      <td>Westeros</td>\n",
       "      <td>bulb</td>\n",
       "      <td>720</td>\n",
       "      <td>190.000000</td>\n",
       "      <td>0.0</td>\n",
       "    </tr>\n",
       "    <tr>\n",
       "      <th>9</th>\n",
       "      <td>Westeros</td>\n",
       "      <td>gas_ppl</td>\n",
       "      <td>700</td>\n",
       "      <td>0.987466</td>\n",
       "      <td>0.0</td>\n",
       "    </tr>\n",
       "    <tr>\n",
       "      <th>10</th>\n",
       "      <td>Westeros</td>\n",
       "      <td>gas_ppl</td>\n",
       "      <td>710</td>\n",
       "      <td>0.000000</td>\n",
       "      <td>0.0</td>\n",
       "    </tr>\n",
       "    <tr>\n",
       "      <th>11</th>\n",
       "      <td>Westeros</td>\n",
       "      <td>gas_ppl</td>\n",
       "      <td>720</td>\n",
       "      <td>0.000000</td>\n",
       "      <td>0.0</td>\n",
       "    </tr>\n",
       "  </tbody>\n",
       "</table>\n",
       "</div>"
      ],
      "text/plain": [
       "    node_loc technology  year_vtg         lvl  mrg\n",
       "0   Westeros   coal_ppl       700    6.501118  0.0\n",
       "1   Westeros   coal_ppl       710    9.178082  0.0\n",
       "2   Westeros   coal_ppl       720   11.933029  0.0\n",
       "3   Westeros   wind_ppl       700    0.000000  0.0\n",
       "4   Westeros   wind_ppl       710    0.000000  0.0\n",
       "5   Westeros   wind_ppl       720    0.000000  0.0\n",
       "6   Westeros       bulb       700  100.000000  0.0\n",
       "7   Westeros       bulb       710  150.000000  0.0\n",
       "8   Westeros       bulb       720  190.000000  0.0\n",
       "9   Westeros    gas_ppl       700    0.987466  0.0\n",
       "10  Westeros    gas_ppl       710    0.000000  0.0\n",
       "11  Westeros    gas_ppl       720    0.000000  0.0"
      ]
     },
     "execution_count": 130,
     "metadata": {},
     "output_type": "execute_result"
    }
   ],
   "source": [
    "new_capacity = scen.var('CAP_NEW')\n",
    "new_capacity"
   ]
  },
  {
   "cell_type": "code",
   "execution_count": 131,
   "id": "bdfc16a6",
   "metadata": {},
   "outputs": [
    {
     "name": "stdout",
     "output_type": "stream",
     "text": [
      "Coal: 27.61222925206089\n",
      "Wind: 0.0\n",
      "Gas: 0.9874663339360694\n"
     ]
    }
   ],
   "source": [
    "print('Coal:', new_capacity.loc[new_capacity['technology'] == 'coal_ppl']['lvl'].sum())\n",
    "print('Wind:', new_capacity.loc[new_capacity['technology'] == 'wind_ppl']['lvl'].sum())\n",
    "print('Gas:', new_capacity.loc[new_capacity['technology'] == 'gas_ppl']['lvl'].sum())"
   ]
  },
  {
   "cell_type": "markdown",
   "id": "2a79fdcb",
   "metadata": {},
   "source": [
    "## Conclusions\n",
    "The total costs are decreasing, since with the additional gas power plant there is more freedom and possibility to meet the energy demand. Furthermore, it can be observed that all technologies are at least used.\n",
    "Secondly, the major energy part is generated out of coal which is problematic, especially when there is no new wind power plants built during the decades.\n",
    "We will tackle this issue within the next notebook by introducing an invention of Eddard Stark, namely carbon prices."
   ]
  },
  {
   "cell_type": "markdown",
   "id": "7d7ad0bc",
   "metadata": {},
   "source": [
    "## Close connection to database"
   ]
  },
  {
   "cell_type": "code",
   "execution_count": 132,
   "id": "62a41b7e",
   "metadata": {},
   "outputs": [],
   "source": [
    "mp.close_db()"
   ]
  }
 ],
 "metadata": {
  "kernelspec": {
   "display_name": "Python 3",
   "language": "python",
   "name": "python3"
  },
  "language_info": {
   "codemirror_mode": {
    "name": "ipython",
    "version": 3
   },
   "file_extension": ".py",
   "mimetype": "text/x-python",
   "name": "python",
   "nbconvert_exporter": "python",
   "pygments_lexer": "ipython3",
   "version": "3.8.10"
  }
 },
 "nbformat": 4,
 "nbformat_minor": 5
}
