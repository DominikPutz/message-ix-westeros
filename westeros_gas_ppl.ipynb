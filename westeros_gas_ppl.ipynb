{
 "cells": [
  {
   "cell_type": "markdown",
   "id": "61976364",
   "metadata": {},
   "source": [
    "# Add a new technology “gas power plant”\n",
    "\n",
    "- Assume realistic cost parameters and lifetimes for this power plant type (include references your sources in the notebook)\n",
    "- Is there a “sweet spot” of prices on carbon such that coal, wind & gas are used at the same time?"
   ]
  },
  {
   "cell_type": "markdown",
   "id": "3f82ee13",
   "metadata": {},
   "source": [
    "## Introduction\n",
    "\n",
    "Since gas power plant is usually supplied with gas we include this within the O&M costs, because we do not want to introduce a whole new fuel type."
   ]
  },
  {
   "cell_type": "code",
   "execution_count": 1,
   "id": "a444b785",
   "metadata": {},
   "outputs": [
    {
     "data": {
      "application/javascript": [
       "IPython.OutputArea.prototype._should_scroll = function(lines) { return false; }"
      ],
      "text/plain": [
       "<IPython.core.display.Javascript object>"
      ]
     },
     "metadata": {},
     "output_type": "display_data"
    }
   ],
   "source": [
    "import pandas as pd\n",
    "import ixmp\n",
    "import message_ix\n",
    "\n",
    "from message_ix.util import make_df\n",
    "\n",
    "%matplotlib inline"
   ]
  },
  {
   "cell_type": "code",
   "execution_count": 2,
   "id": "89c49ef4",
   "metadata": {},
   "outputs": [
    {
     "ename": "RuntimeError",
     "evalue": "unhandled Java exception: \nUnable to obtain connection from database (jdbc:hsqldb:file:C:/Users/z0040kue/.local/share/ixmp/localdb/default) for user 'ixmp': Database lock acquisition failure: lockFile: org.hsqldb.persist.LockFile@80412919[file =C:\\Users\\z0040kue\\.local\\share\\ixmp\\localdb\\default.lck, exists=true, locked=false, valid=false, ] method: checkHeartbeat read: 2021-05-13 14:27:02 heartbeat - read: -5148 ms.\n---------------------------------------------------------------------------------------------------------------------------------------------------------------------------------------------------------------------------------------------------------------------------------------------------------------------------------------------------------------------------------------------------------\nSQL State  : S1000\nError Code : -451\nMessage    : Database lock acquisition failure: lockFile: org.hsqldb.persist.LockFile@80412919[file =C:\\Users\\z0040kue\\.local\\share\\ixmp\\localdb\\default.lck, exists=true, locked=false, valid=false, ] method: checkHeartbeat read: 2021-05-13 14:27:02 heartbeat - read: -5148 ms.\n",
     "output_type": "error",
     "traceback": [
      "\u001b[1;31m---------------------------------------------------------------------------\u001b[0m",
      "\u001b[1;31mRuntimeError\u001b[0m                              Traceback (most recent call last)",
      "\u001b[1;32m<ipython-input-2-7b00d32da662>\u001b[0m in \u001b[0;36m<module>\u001b[1;34m\u001b[0m\n\u001b[1;32m----> 1\u001b[1;33m \u001b[0mmp\u001b[0m \u001b[1;33m=\u001b[0m \u001b[0mixmp\u001b[0m\u001b[1;33m.\u001b[0m\u001b[0mPlatform\u001b[0m\u001b[1;33m(\u001b[0m\u001b[1;33m)\u001b[0m\u001b[1;33m\u001b[0m\u001b[1;33m\u001b[0m\u001b[0m\n\u001b[0m",
      "\u001b[1;32mD:\\Programs\\Anaconda3\\envs\\message_env\\lib\\site-packages\\ixmp\\core.py\u001b[0m in \u001b[0;36m__init__\u001b[1;34m(self, name, backend, **backend_args)\u001b[0m\n\u001b[0;32m     97\u001b[0m \u001b[1;33m\u001b[0m\u001b[0m\n\u001b[0;32m     98\u001b[0m         \u001b[1;31m# Instantiate the backend\u001b[0m\u001b[1;33m\u001b[0m\u001b[1;33m\u001b[0m\u001b[1;33m\u001b[0m\u001b[0m\n\u001b[1;32m---> 99\u001b[1;33m         \u001b[0mself\u001b[0m\u001b[1;33m.\u001b[0m\u001b[0m_backend\u001b[0m \u001b[1;33m=\u001b[0m \u001b[0mbackend_class\u001b[0m\u001b[1;33m(\u001b[0m\u001b[1;33m**\u001b[0m\u001b[0mkwargs\u001b[0m\u001b[1;33m)\u001b[0m\u001b[1;33m\u001b[0m\u001b[1;33m\u001b[0m\u001b[0m\n\u001b[0m\u001b[0;32m    100\u001b[0m \u001b[1;33m\u001b[0m\u001b[0m\n\u001b[0;32m    101\u001b[0m     \u001b[1;32mdef\u001b[0m \u001b[0m__getattr__\u001b[0m\u001b[1;33m(\u001b[0m\u001b[0mself\u001b[0m\u001b[1;33m,\u001b[0m \u001b[0mname\u001b[0m\u001b[1;33m)\u001b[0m\u001b[1;33m:\u001b[0m\u001b[1;33m\u001b[0m\u001b[1;33m\u001b[0m\u001b[0m\n",
      "\u001b[1;32mD:\\Programs\\Anaconda3\\envs\\message_env\\lib\\site-packages\\ixmp\\backend\\jdbc.py\u001b[0m in \u001b[0;36m__init__\u001b[1;34m(self, jvmargs, **kwargs)\u001b[0m\n\u001b[0;32m    280\u001b[0m                     )\n\u001b[0;32m    281\u001b[0m             \u001b[1;32melse\u001b[0m\u001b[1;33m:\u001b[0m\u001b[1;33m\u001b[0m\u001b[1;33m\u001b[0m\u001b[0m\n\u001b[1;32m--> 282\u001b[1;33m                 \u001b[0m_raise_jexception\u001b[0m\u001b[1;33m(\u001b[0m\u001b[0me\u001b[0m\u001b[1;33m)\u001b[0m\u001b[1;33m\u001b[0m\u001b[1;33m\u001b[0m\u001b[0m\n\u001b[0m\u001b[0;32m    283\u001b[0m             \u001b[1;32mraise\u001b[0m \u001b[0mRuntimeError\u001b[0m\u001b[1;33m(\u001b[0m\u001b[1;34mf\"{msg}\\n(Java: {jclass})\"\u001b[0m\u001b[1;33m)\u001b[0m\u001b[1;33m\u001b[0m\u001b[1;33m\u001b[0m\u001b[0m\n\u001b[0;32m    284\u001b[0m \u001b[1;33m\u001b[0m\u001b[0m\n",
      "\u001b[1;32mD:\\Programs\\Anaconda3\\envs\\message_env\\lib\\site-packages\\ixmp\\backend\\jdbc.py\u001b[0m in \u001b[0;36m_raise_jexception\u001b[1;34m(exc, msg)\u001b[0m\n\u001b[0;32m    128\u001b[0m     \u001b[1;32melse\u001b[0m\u001b[1;33m:\u001b[0m\u001b[1;33m\u001b[0m\u001b[1;33m\u001b[0m\u001b[0m\n\u001b[0;32m    129\u001b[0m         \u001b[0mmsg\u001b[0m \u001b[1;33m+=\u001b[0m \u001b[0mexc\u001b[0m\u001b[1;33m.\u001b[0m\u001b[0mmessage\u001b[0m\u001b[1;33m(\u001b[0m\u001b[1;33m)\u001b[0m\u001b[1;33m\u001b[0m\u001b[1;33m\u001b[0m\u001b[0m\n\u001b[1;32m--> 130\u001b[1;33m     \u001b[1;32mraise\u001b[0m \u001b[0mRuntimeError\u001b[0m\u001b[1;33m(\u001b[0m\u001b[0mmsg\u001b[0m\u001b[1;33m)\u001b[0m \u001b[1;32mfrom\u001b[0m \u001b[1;32mNone\u001b[0m\u001b[1;33m\u001b[0m\u001b[1;33m\u001b[0m\u001b[0m\n\u001b[0m\u001b[0;32m    131\u001b[0m \u001b[1;33m\u001b[0m\u001b[0m\n\u001b[0;32m    132\u001b[0m \u001b[1;33m\u001b[0m\u001b[0m\n",
      "\u001b[1;31mRuntimeError\u001b[0m: unhandled Java exception: \nUnable to obtain connection from database (jdbc:hsqldb:file:C:/Users/z0040kue/.local/share/ixmp/localdb/default) for user 'ixmp': Database lock acquisition failure: lockFile: org.hsqldb.persist.LockFile@80412919[file =C:\\Users\\z0040kue\\.local\\share\\ixmp\\localdb\\default.lck, exists=true, locked=false, valid=false, ] method: checkHeartbeat read: 2021-05-13 14:27:02 heartbeat - read: -5148 ms.\n---------------------------------------------------------------------------------------------------------------------------------------------------------------------------------------------------------------------------------------------------------------------------------------------------------------------------------------------------------------------------------------------------------\nSQL State  : S1000\nError Code : -451\nMessage    : Database lock acquisition failure: lockFile: org.hsqldb.persist.LockFile@80412919[file =C:\\Users\\z0040kue\\.local\\share\\ixmp\\localdb\\default.lck, exists=true, locked=false, valid=false, ] method: checkHeartbeat read: 2021-05-13 14:27:02 heartbeat - read: -5148 ms.\n"
     ]
    }
   ],
   "source": [
    "mp = ixmp.Platform()"
   ]
  },
  {
   "cell_type": "markdown",
   "id": "f90e9700",
   "metadata": {},
   "source": [
    "### Making a clone of the existing scenario 'baseline'\n",
    "\n",
    "Loading the existing scenario 'baseline' and cloning to a new scenario 'gas_ppl' to add the gas power plant"
   ]
  },
  {
   "cell_type": "code",
   "execution_count": 3,
   "id": "68311f79",
   "metadata": {},
   "outputs": [
    {
     "ename": "NameError",
     "evalue": "name 'mp' is not defined",
     "output_type": "error",
     "traceback": [
      "\u001b[1;31m---------------------------------------------------------------------------\u001b[0m",
      "\u001b[1;31mNameError\u001b[0m                                 Traceback (most recent call last)",
      "\u001b[1;32m<ipython-input-3-f5f0b09b9c09>\u001b[0m in \u001b[0;36m<module>\u001b[1;34m\u001b[0m\n\u001b[0;32m      1\u001b[0m \u001b[0mmodel\u001b[0m \u001b[1;33m=\u001b[0m \u001b[1;34m'Westeros Electrified'\u001b[0m\u001b[1;33m\u001b[0m\u001b[1;33m\u001b[0m\u001b[0m\n\u001b[1;32m----> 2\u001b[1;33m \u001b[0mbase\u001b[0m \u001b[1;33m=\u001b[0m \u001b[0mmessage_ix\u001b[0m\u001b[1;33m.\u001b[0m\u001b[0mScenario\u001b[0m\u001b[1;33m(\u001b[0m\u001b[0mmp\u001b[0m\u001b[1;33m,\u001b[0m \u001b[0mmodel\u001b[0m\u001b[1;33m=\u001b[0m\u001b[0mmodel\u001b[0m\u001b[1;33m,\u001b[0m \u001b[0mscenario\u001b[0m\u001b[1;33m=\u001b[0m\u001b[1;34m'baseline'\u001b[0m\u001b[1;33m)\u001b[0m\u001b[1;33m\u001b[0m\u001b[1;33m\u001b[0m\u001b[0m\n\u001b[0m\u001b[0;32m      3\u001b[0m \u001b[0mscen\u001b[0m \u001b[1;33m=\u001b[0m \u001b[0mbase\u001b[0m\u001b[1;33m.\u001b[0m\u001b[0mclone\u001b[0m\u001b[1;33m(\u001b[0m\u001b[0mmodel\u001b[0m\u001b[1;33m,\u001b[0m \u001b[1;34m'gas_ppl'\u001b[0m\u001b[1;33m,\u001b[0m \u001b[1;34m'introduce new gas power plant'\u001b[0m\u001b[1;33m,\u001b[0m \u001b[0mkeep_solution\u001b[0m\u001b[1;33m=\u001b[0m\u001b[1;32mFalse\u001b[0m\u001b[1;33m)\u001b[0m\u001b[1;33m\u001b[0m\u001b[1;33m\u001b[0m\u001b[0m\n\u001b[0;32m      4\u001b[0m \u001b[0mscen\u001b[0m\u001b[1;33m.\u001b[0m\u001b[0mcheck_out\u001b[0m\u001b[1;33m(\u001b[0m\u001b[1;33m)\u001b[0m\u001b[1;33m\u001b[0m\u001b[1;33m\u001b[0m\u001b[0m\n",
      "\u001b[1;31mNameError\u001b[0m: name 'mp' is not defined"
     ]
    }
   ],
   "source": [
    "model = 'Westeros Electrified'\n",
    "base = message_ix.Scenario(mp, model=model, scenario='baseline')\n",
    "scen = base.clone(model, 'gas_ppl', 'introduce new gas power plant', keep_solution=False)\n",
    "scen.check_out()"
   ]
  },
  {
   "cell_type": "markdown",
   "id": "b4dbe854",
   "metadata": {},
   "source": [
    "### Create gas power plant"
   ]
  },
  {
   "cell_type": "code",
   "execution_count": null,
   "id": "4637a557",
   "metadata": {},
   "outputs": [],
   "source": [
    "scen.add_set(\"technology\", 'gas_ppl')"
   ]
  },
  {
   "cell_type": "code",
   "execution_count": null,
   "id": "6bde3868",
   "metadata": {},
   "outputs": [],
   "source": [
    "# year_df = scen.vintage_and_active_years()\n",
    "# vintage_years, act_years = year_df['year_vtg'], year_df['year_act']\n",
    "\n",
    "# base = {\n",
    "#     'node_loc': country,\n",
    "#     'year_vtg': vintage_years,\n",
    "#     'year_act': act_years,\n",
    "#     'mode': 'standard',\n",
    "#     'time': 'year',\n",
    "#     'unit': '-',\n",
    "# }\n",
    "\n",
    "# base_output = make_df(base, node_dest=country, time_dest='year')\n",
    "\n",
    "gas_out = make_df(base_output, technology='gas_ppl', commodity='electricity', \n",
    "                   level='secondary', value=1., unit=\"GWa\")\n",
    "scen.add_par('output', gas_out)"
   ]
  },
  {
   "cell_type": "markdown",
   "id": "ddd7ab4f",
   "metadata": {},
   "source": [
    "### Operational Constraints and Parameters"
   ]
  },
  {
   "cell_type": "markdown",
   "id": "52089a52",
   "metadata": {},
   "source": [
    "Include Capacity factor of 1.0"
   ]
  },
  {
   "cell_type": "code",
   "execution_count": null,
   "id": "bbe0a6e5",
   "metadata": {},
   "outputs": [],
   "source": [
    "# base_capacity_factor = {\n",
    "#     'node_loc': country,\n",
    "#     'year_vtg': vintage_years,\n",
    "#     'year_act': act_years,\n",
    "#     'time': 'year',\n",
    "#     'unit': '-',\n",
    "# }\n",
    "\n",
    "gas_capacity = 1.0\n",
    "\n",
    "df = make_df(base_capacity_factor, technology='gas_ppl', value=gas_capacity)\n",
    "scenario.add_par('capacity_factor', df)"
   ]
  },
  {
   "cell_type": "markdown",
   "id": "e1576c3b",
   "metadata": {},
   "source": [
    "Include lifetime same as coal = 20"
   ]
  },
  {
   "cell_type": "code",
   "execution_count": null,
   "id": "d0a0c040",
   "metadata": {},
   "outputs": [],
   "source": [
    "# base_technical_lifetime = {\n",
    "#     'node_loc': country,\n",
    "#     'year_vtg': model_horizon,\n",
    "#     'unit': 'y',\n",
    "# }\n",
    "\n",
    "df = make_df(base_technical_lifetime, technology='gas_ppl', value=20)\n",
    "scen.add_par('technical_lifetime', df)"
   ]
  },
  {
   "cell_type": "markdown",
   "id": "37aabd47",
   "metadata": {},
   "source": [
    "### Technological Diffusion and Contraction"
   ]
  },
  {
   "cell_type": "code",
   "execution_count": null,
   "id": "61619640",
   "metadata": {},
   "outputs": [],
   "source": [
    "df = make_df(base_growth, technology='gas_ppl', value=0.1) \n",
    "scenario.add_par('growth_activity_up', df)"
   ]
  },
  {
   "cell_type": "markdown",
   "id": "f3e6b992",
   "metadata": {},
   "source": [
    "### Defining an Energy Mix\n",
    "Gas has the same fraction as coal"
   ]
  },
  {
   "cell_type": "code",
   "execution_count": null,
   "id": "19d2ceb1",
   "metadata": {},
   "outputs": [],
   "source": [
    "gas_fraction = 0.6\n",
    "gas_activity = (1 - gas_fraction) * historic_generation,\n",
    "\n",
    "df = make_df(base_activity, technology='gas_ppl', value=gas_activity)\n",
    "scenario.add_par('historical_activity', df)"
   ]
  },
  {
   "cell_type": "code",
   "execution_count": null,
   "id": "23ee0bb0",
   "metadata": {},
   "outputs": [],
   "source": [
    "gas_cap = 1 / 10 / gas_capacity / 2,\n",
    "    \n",
    "value = gas_activity * gas_cap\n",
    "df = make_df(base_capacity, technology='gas_ppl', value=value)\n",
    "scenario.add_par('historical_new_capacity', df)"
   ]
  },
  {
   "cell_type": "markdown",
   "id": "e6b6a964",
   "metadata": {},
   "source": [
    "### Run model"
   ]
  },
  {
   "cell_type": "code",
   "execution_count": null,
   "id": "e99cd3b9",
   "metadata": {},
   "outputs": [],
   "source": [
    "scen.commit(comment='introducing gas power plant')"
   ]
  },
  {
   "cell_type": "code",
   "execution_count": null,
   "id": "fe8d904f",
   "metadata": {},
   "outputs": [],
   "source": [
    "scen.solve()"
   ]
  },
  {
   "cell_type": "code",
   "execution_count": null,
   "id": "819414fa",
   "metadata": {},
   "outputs": [],
   "source": [
    "scen.var('OBJ')['lvl']"
   ]
  },
  {
   "cell_type": "markdown",
   "id": "7d7ad0bc",
   "metadata": {},
   "source": [
    "### Close connection to database"
   ]
  },
  {
   "cell_type": "code",
   "execution_count": null,
   "id": "62a41b7e",
   "metadata": {},
   "outputs": [],
   "source": []
  }
 ],
 "metadata": {
  "kernelspec": {
   "display_name": "Python 3",
   "language": "python",
   "name": "python3"
  },
  "language_info": {
   "codemirror_mode": {
    "name": "ipython",
    "version": 3
   },
   "file_extension": ".py",
   "mimetype": "text/x-python",
   "name": "python",
   "nbconvert_exporter": "python",
   "pygments_lexer": "ipython3",
   "version": "3.8.10"
  }
 },
 "nbformat": 4,
 "nbformat_minor": 5
}
