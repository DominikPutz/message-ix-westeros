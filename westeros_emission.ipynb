{
 "cells": [
  {
   "cell_type": "markdown",
   "id": "98de425a",
   "metadata": {},
   "source": [
    "# Add carbon prices\n",
    "\n",
    "- Assume realistic cost parameters and lifetimes for this power plant type (include references your sources in the notebook)\n",
    "- Is there a “sweet spot” of prices on carbon such that coal, wind & gas are used at the same time?"
   ]
  },
  {
   "cell_type": "code",
   "execution_count": 124,
   "id": "cfae80ed",
   "metadata": {},
   "outputs": [],
   "source": [
    "import pandas as pd\n",
    "import ixmp\n",
    "import message_ix\n",
    "\n",
    "from message_ix.util import make_df\n",
    "\n",
    "%matplotlib inline"
   ]
  },
  {
   "cell_type": "code",
   "execution_count": 125,
   "id": "fa1d72c3",
   "metadata": {},
   "outputs": [],
   "source": [
    "mp = ixmp.Platform()"
   ]
  },
  {
   "cell_type": "markdown",
   "id": "dbc2e350",
   "metadata": {},
   "source": [
    "### Making a clone of the existing scenario 'gas_ppl'\n",
    "\n",
    "Loading the existing scenario 'gas_ppl' and cloning to a new scenario 'emission' to add carbon prices"
   ]
  },
  {
   "cell_type": "code",
   "execution_count": 126,
   "id": "2b98b7bb",
   "metadata": {},
   "outputs": [],
   "source": [
    "model = 'Westeros Electrified'\n",
    "base = message_ix.Scenario(mp, model=model, scenario='gas_ppl')\n",
    "scen = base.clone(model, 'emission', 'introduce emission taxes', keep_solution=False)\n",
    "scen.check_out()"
   ]
  },
  {
   "cell_type": "code",
   "execution_count": 127,
   "id": "f62dfe6f",
   "metadata": {},
   "outputs": [],
   "source": [
    "country = 'Westeros'\n",
    "model_horizon = scen.set('year')\n",
    "year_df = scen.vintage_and_active_years()\n",
    "vintage_years, act_years = year_df['year_vtg'], year_df['year_act']"
   ]
  },
  {
   "cell_type": "markdown",
   "id": "14676315",
   "metadata": {},
   "source": [
    "### Create carbon prices"
   ]
  },
  {
   "cell_type": "code",
   "execution_count": 130,
   "id": "afe97ff9",
   "metadata": {},
   "outputs": [
    {
     "name": "stderr",
     "output_type": "stream",
     "text": [
      "INFO:root:unit `tCO2/kWa` is already defined in the platform instance\n",
      "INFO:root:unit `MtCO2` is already defined in the platform instance\n"
     ]
    }
   ],
   "source": [
    "# first we introduce the emission of CO2 and the emission category GHG\n",
    "scen.add_set('emission', 'CO2')\n",
    "scen.add_cat('emission', 'GHG', 'CO2')\n",
    "\n",
    "# we now add CO2 emissions to the powerplants\n",
    "base_emission_factor = {\n",
    "    'node_loc': country,\n",
    "    'year_vtg': vintage_years,\n",
    "    'year_act': act_years,\n",
    "    'mode': 'standard',\n",
    "    'unit': 'tCO2/kWa',\n",
    "}\n",
    "\n",
    "\n",
    "emission_factor = {\n",
    "    'coal_ppl': 7.4,\n",
    "    'gas_ppl': 6.6,\n",
    "    'wind_ppl': 0,\n",
    "}\n",
    "\n",
    "for tec, val in emission_factor.items():\n",
    "    df = make_df(base_emission_factor, technology=tec, emission= 'CO2', value=val)\n",
    "    scen.add_par('emission_factor', df)\n",
    "\n",
    "# adding new units to the model library (needed only once)\n",
    "mp.add_unit('tCO2/kWa')\n",
    "mp.add_unit('MtCO2')"
   ]
  },
  {
   "cell_type": "markdown",
   "id": "83cd3b2a",
   "metadata": {},
   "source": [
    "### Carbon prices\n",
    "\n",
    "| technology | USD/kw |\n",
    "|---------------|--------------|\n",
    "| Coal     | 5    |\n",
    "| Gas     | 4         |\n",
    "| Wind     | 0         |"
   ]
  },
  {
   "cell_type": "code",
   "execution_count": 85,
   "id": "2bd64149",
   "metadata": {
    "collapsed": true
   },
   "outputs": [
    {
     "data": {
      "text/plain": [
       "['commodity_stock',\n",
       " 'demand',\n",
       " 'resource_cost',\n",
       " 'resource_remaining',\n",
       " 'bound_extraction_up',\n",
       " 'resource_volume',\n",
       " 'technical_lifetime',\n",
       " 'capacity_factor',\n",
       " 'operation_factor',\n",
       " 'min_utilization_factor',\n",
       " 'inv_cost',\n",
       " 'fix_cost',\n",
       " 'var_cost',\n",
       " 'output',\n",
       " 'input',\n",
       " 'abs_cost_new_capacity_soft_up',\n",
       " 'abs_cost_new_capacity_soft_lo',\n",
       " 'level_cost_new_capacity_soft_up',\n",
       " 'level_cost_new_capacity_soft_lo',\n",
       " 'abs_cost_activity_soft_up',\n",
       " 'abs_cost_activity_soft_lo',\n",
       " 'level_cost_activity_soft_up',\n",
       " 'level_cost_activity_soft_lo',\n",
       " 'bound_new_capacity_up',\n",
       " 'bound_new_capacity_lo',\n",
       " 'bound_total_capacity_up',\n",
       " 'bound_total_capacity_lo',\n",
       " 'bound_activity_up',\n",
       " 'bound_activity_lo',\n",
       " 'initial_new_capacity_up',\n",
       " 'growth_new_capacity_up',\n",
       " 'soft_new_capacity_up',\n",
       " 'initial_new_capacity_lo',\n",
       " 'growth_new_capacity_lo',\n",
       " 'soft_new_capacity_lo',\n",
       " 'initial_activity_up',\n",
       " 'growth_activity_up',\n",
       " 'soft_activity_up',\n",
       " 'initial_activity_lo',\n",
       " 'growth_activity_lo',\n",
       " 'soft_activity_lo',\n",
       " 'emission_factor',\n",
       " 'construction_time',\n",
       " 'renewable_potential',\n",
       " 'renewable_capacity_factor',\n",
       " 'reliability_factor',\n",
       " 'peak_load_factor',\n",
       " 'flexibility_factor',\n",
       " 'rating_bin',\n",
       " 'tax',\n",
       " 'subsidy',\n",
       " 'historical_emission',\n",
       " 'emission_scaling',\n",
       " 'bound_emission',\n",
       " 'tax_emission',\n",
       " 'land_cost',\n",
       " 'land_input',\n",
       " 'land_output',\n",
       " 'land_use',\n",
       " 'land_emission',\n",
       " 'initial_land_scen_up',\n",
       " 'growth_land_scen_up',\n",
       " 'initial_land_scen_lo',\n",
       " 'growth_land_scen_lo',\n",
       " 'initial_land_up',\n",
       " 'dynamic_land_up',\n",
       " 'growth_land_up',\n",
       " 'initial_land_lo',\n",
       " 'dynamic_land_lo',\n",
       " 'growth_land_lo',\n",
       " 'relation_upper',\n",
       " 'relation_lower',\n",
       " 'relation_cost',\n",
       " 'relation_new_capacity',\n",
       " 'relation_total_capacity',\n",
       " 'relation_activity',\n",
       " 'duration_period',\n",
       " 'duration_time',\n",
       " 'interestrate',\n",
       " 'historical_extraction',\n",
       " 'historical_new_capacity',\n",
       " 'historical_activity',\n",
       " 'historical_land',\n",
       " 'ref_extraction',\n",
       " 'ref_new_capacity',\n",
       " 'ref_activity',\n",
       " 'ref_relation',\n",
       " 'fixed_extraction',\n",
       " 'fixed_stock',\n",
       " 'fixed_new_capacity',\n",
       " 'fixed_capacity',\n",
       " 'fixed_activity',\n",
       " 'fixed_land',\n",
       " 'historical_gdp',\n",
       " 'share_commodity_up',\n",
       " 'share_commodity_lo',\n",
       " 'share_mode_up',\n",
       " 'share_mode_lo',\n",
       " 'addon_conversion',\n",
       " 'addon_up',\n",
       " 'addon_lo',\n",
       " 'storage_initial',\n",
       " 'storage_self_discharge',\n",
       " 'time_order']"
      ]
     },
     "execution_count": 85,
     "metadata": {},
     "output_type": "execute_result"
    }
   ],
   "source": [
    "scen.par_list()"
   ]
  },
  {
   "cell_type": "code",
   "execution_count": 131,
   "id": "7a7a6720",
   "metadata": {},
   "outputs": [
    {
     "name": "stderr",
     "output_type": "stream",
     "text": [
      "INFO:root:unit `USD/tCO2` is already defined in the platform instance\n"
     ]
    },
    {
     "data": {
      "text/html": [
       "<div>\n",
       "<style scoped>\n",
       "    .dataframe tbody tr th:only-of-type {\n",
       "        vertical-align: middle;\n",
       "    }\n",
       "\n",
       "    .dataframe tbody tr th {\n",
       "        vertical-align: top;\n",
       "    }\n",
       "\n",
       "    .dataframe thead th {\n",
       "        text-align: right;\n",
       "    }\n",
       "</style>\n",
       "<table border=\"1\" class=\"dataframe\">\n",
       "  <thead>\n",
       "    <tr style=\"text-align: right;\">\n",
       "      <th></th>\n",
       "      <th>node</th>\n",
       "      <th>type_emission</th>\n",
       "      <th>type_tec</th>\n",
       "      <th>type_year</th>\n",
       "      <th>value</th>\n",
       "      <th>unit</th>\n",
       "    </tr>\n",
       "  </thead>\n",
       "  <tbody>\n",
       "    <tr>\n",
       "      <th>0</th>\n",
       "      <td>Westeros</td>\n",
       "      <td>GHG</td>\n",
       "      <td>all</td>\n",
       "      <td>700</td>\n",
       "      <td>40.0</td>\n",
       "      <td>USD/tCO2</td>\n",
       "    </tr>\n",
       "    <tr>\n",
       "      <th>1</th>\n",
       "      <td>Westeros</td>\n",
       "      <td>GHG</td>\n",
       "      <td>all</td>\n",
       "      <td>710</td>\n",
       "      <td>40.0</td>\n",
       "      <td>USD/tCO2</td>\n",
       "    </tr>\n",
       "    <tr>\n",
       "      <th>2</th>\n",
       "      <td>Westeros</td>\n",
       "      <td>GHG</td>\n",
       "      <td>all</td>\n",
       "      <td>720</td>\n",
       "      <td>40.0</td>\n",
       "      <td>USD/tCO2</td>\n",
       "    </tr>\n",
       "  </tbody>\n",
       "</table>\n",
       "</div>"
      ],
      "text/plain": [
       "       node type_emission type_tec type_year  value      unit\n",
       "0  Westeros           GHG      all       700   40.0  USD/tCO2\n",
       "1  Westeros           GHG      all       710   40.0  USD/tCO2\n",
       "2  Westeros           GHG      all       720   40.0  USD/tCO2"
      ]
     },
     "execution_count": 131,
     "metadata": {},
     "output_type": "execute_result"
    }
   ],
   "source": [
    "base_tax_emission = {\n",
    "    'node': 'Westeros',\n",
    "    'type_year': [700, 710, 720],\n",
    "    'type_tec': 'all',\n",
    "    'unit': 'USD/tCO2',\n",
    "    'type_emission': 'GHG',\n",
    "    'value': 40\n",
    "}\n",
    "\n",
    "# in case you need to add the new unit to the platform\n",
    "mp.add_unit('USD/tCO2')\n",
    "\n",
    "tax_emission = make_df(base_tax_emission)\n",
    "scen.add_par('tax_emission', tax_emission)\n",
    "scen.par('tax_emission')"
   ]
  },
  {
   "cell_type": "markdown",
   "id": "b0dbee43",
   "metadata": {},
   "source": [
    "## Run model"
   ]
  },
  {
   "cell_type": "code",
   "execution_count": 132,
   "id": "b7425b73",
   "metadata": {},
   "outputs": [],
   "source": [
    "scen.commit(comment='introducing carbon pricing')"
   ]
  },
  {
   "cell_type": "code",
   "execution_count": 133,
   "id": "f910305b",
   "metadata": {},
   "outputs": [],
   "source": [
    "scen.solve()"
   ]
  },
  {
   "cell_type": "code",
   "execution_count": 134,
   "id": "2a350b78",
   "metadata": {},
   "outputs": [
    {
     "data": {
      "text/plain": [
       "716210.9375"
      ]
     },
     "execution_count": 134,
     "metadata": {},
     "output_type": "execute_result"
    }
   ],
   "source": [
    "scen.var('OBJ')['lvl']"
   ]
  },
  {
   "cell_type": "code",
   "execution_count": 135,
   "id": "820a52e1",
   "metadata": {},
   "outputs": [
    {
     "data": {
      "text/plain": [
       "['OBJ',\n",
       " 'EXT',\n",
       " 'STOCK',\n",
       " 'CAP_NEW',\n",
       " 'CAP',\n",
       " 'ACT',\n",
       " 'EMISS',\n",
       " 'LAND',\n",
       " 'REL',\n",
       " 'DEMAND',\n",
       " 'PRICE_COMMODITY',\n",
       " 'PRICE_EMISSION',\n",
       " 'COST_NODAL',\n",
       " 'COST_NODAL_NET',\n",
       " 'GDP',\n",
       " 'I',\n",
       " 'C']"
      ]
     },
     "execution_count": 135,
     "metadata": {},
     "output_type": "execute_result"
    }
   ],
   "source": [
    "scen.var_list()"
   ]
  },
  {
   "cell_type": "markdown",
   "id": "24c64e7d",
   "metadata": {},
   "source": [
    "## Results"
   ]
  },
  {
   "cell_type": "code",
   "execution_count": 136,
   "id": "3696cbe5",
   "metadata": {},
   "outputs": [],
   "source": [
    "# Create a Reporter object to describe and carry out reporting\n",
    "# calculations and operations (like plotting) based on `scenario`\n",
    "from message_ix.reporting import Reporter\n",
    "\n",
    "rep = Reporter.from_scenario(scen)\n",
    "\n",
    "# Add keys like \"plot activity\" to describe reporting operations.\n",
    "# See tutorial/utils/plotting.py\n",
    "from message_ix.util.tutorial import prepare_plots\n",
    "\n",
    "prepare_plots(rep)"
   ]
  },
  {
   "cell_type": "markdown",
   "id": "48add540",
   "metadata": {},
   "source": [
    "### Activity\n",
    "How much energy is generated in each time period from the different potential sources?"
   ]
  },
  {
   "cell_type": "code",
   "execution_count": 137,
   "id": "d0516405",
   "metadata": {},
   "outputs": [
    {
     "data": {
      "text/plain": [
       "<AxesSubplot:title={'center':'Westeros Energy System Activity'}, xlabel='Year', ylabel='GWa'>"
      ]
     },
     "execution_count": 137,
     "metadata": {},
     "output_type": "execute_result"
    },
    {
     "data": {
      "image/png": "[encoded data removed]",
      "text/plain": [
       "<Figure size 432x288 with 1 Axes>"
      ]
     },
     "metadata": {
      "needs_background": "light"
     },
     "output_type": "display_data"
    }
   ],
   "source": [
    "# Only show a subset of technologies in the follow plots;\n",
    "# e.g. exclude \"bulb\" and \"grid\"\n",
    "rep.set_filters(t=[\"coal_ppl\", \"wind_ppl\", \"gas_ppl\"])\n",
    "\n",
    "# Trigger the calculation and plotting\n",
    "rep.get(\"plot activity\")"
   ]
  },
  {
   "cell_type": "code",
   "execution_count": 138,
   "id": "e901cab3",
   "metadata": {},
   "outputs": [
    {
     "data": {
      "text/html": [
       "<div>\n",
       "<style scoped>\n",
       "    .dataframe tbody tr th:only-of-type {\n",
       "        vertical-align: middle;\n",
       "    }\n",
       "\n",
       "    .dataframe tbody tr th {\n",
       "        vertical-align: top;\n",
       "    }\n",
       "\n",
       "    .dataframe thead th {\n",
       "        text-align: right;\n",
       "    }\n",
       "</style>\n",
       "<table border=\"1\" class=\"dataframe\">\n",
       "  <thead>\n",
       "    <tr style=\"text-align: right;\">\n",
       "      <th></th>\n",
       "      <th>node_loc</th>\n",
       "      <th>technology</th>\n",
       "      <th>year_vtg</th>\n",
       "      <th>year_act</th>\n",
       "      <th>mode</th>\n",
       "      <th>time</th>\n",
       "      <th>lvl</th>\n",
       "      <th>mrg</th>\n",
       "    </tr>\n",
       "  </thead>\n",
       "  <tbody>\n",
       "    <tr>\n",
       "      <th>0</th>\n",
       "      <td>Westeros</td>\n",
       "      <td>coal_ppl</td>\n",
       "      <td>690</td>\n",
       "      <td>700</td>\n",
       "      <td>standard</td>\n",
       "      <td>year</td>\n",
       "      <td>3.729384</td>\n",
       "      <td>0.000000e+00</td>\n",
       "    </tr>\n",
       "    <tr>\n",
       "      <th>1</th>\n",
       "      <td>Westeros</td>\n",
       "      <td>coal_ppl</td>\n",
       "      <td>700</td>\n",
       "      <td>700</td>\n",
       "      <td>standard</td>\n",
       "      <td>year</td>\n",
       "      <td>0.000000</td>\n",
       "      <td>0.000000e+00</td>\n",
       "    </tr>\n",
       "    <tr>\n",
       "      <th>2</th>\n",
       "      <td>Westeros</td>\n",
       "      <td>coal_ppl</td>\n",
       "      <td>700</td>\n",
       "      <td>710</td>\n",
       "      <td>standard</td>\n",
       "      <td>year</td>\n",
       "      <td>0.000000</td>\n",
       "      <td>4.361237e+02</td>\n",
       "    </tr>\n",
       "    <tr>\n",
       "      <th>3</th>\n",
       "      <td>Westeros</td>\n",
       "      <td>coal_ppl</td>\n",
       "      <td>710</td>\n",
       "      <td>710</td>\n",
       "      <td>standard</td>\n",
       "      <td>year</td>\n",
       "      <td>0.000000</td>\n",
       "      <td>2.939095e+02</td>\n",
       "    </tr>\n",
       "    <tr>\n",
       "      <th>4</th>\n",
       "      <td>Westeros</td>\n",
       "      <td>coal_ppl</td>\n",
       "      <td>710</td>\n",
       "      <td>720</td>\n",
       "      <td>standard</td>\n",
       "      <td>year</td>\n",
       "      <td>0.000000</td>\n",
       "      <td>2.677421e+02</td>\n",
       "    </tr>\n",
       "    <tr>\n",
       "      <th>5</th>\n",
       "      <td>Westeros</td>\n",
       "      <td>coal_ppl</td>\n",
       "      <td>720</td>\n",
       "      <td>720</td>\n",
       "      <td>standard</td>\n",
       "      <td>year</td>\n",
       "      <td>0.000000</td>\n",
       "      <td>3.562203e+02</td>\n",
       "    </tr>\n",
       "    <tr>\n",
       "      <th>6</th>\n",
       "      <td>Westeros</td>\n",
       "      <td>wind_ppl</td>\n",
       "      <td>690</td>\n",
       "      <td>700</td>\n",
       "      <td>standard</td>\n",
       "      <td>year</td>\n",
       "      <td>10.350076</td>\n",
       "      <td>0.000000e+00</td>\n",
       "    </tr>\n",
       "    <tr>\n",
       "      <th>7</th>\n",
       "      <td>Westeros</td>\n",
       "      <td>wind_ppl</td>\n",
       "      <td>700</td>\n",
       "      <td>700</td>\n",
       "      <td>standard</td>\n",
       "      <td>year</td>\n",
       "      <td>43.340788</td>\n",
       "      <td>0.000000e+00</td>\n",
       "    </tr>\n",
       "    <tr>\n",
       "      <th>8</th>\n",
       "      <td>Westeros</td>\n",
       "      <td>wind_ppl</td>\n",
       "      <td>700</td>\n",
       "      <td>710</td>\n",
       "      <td>standard</td>\n",
       "      <td>year</td>\n",
       "      <td>43.340788</td>\n",
       "      <td>0.000000e+00</td>\n",
       "    </tr>\n",
       "    <tr>\n",
       "      <th>9</th>\n",
       "      <td>Westeros</td>\n",
       "      <td>wind_ppl</td>\n",
       "      <td>710</td>\n",
       "      <td>710</td>\n",
       "      <td>standard</td>\n",
       "      <td>year</td>\n",
       "      <td>0.000000</td>\n",
       "      <td>1.679289e+02</td>\n",
       "    </tr>\n",
       "    <tr>\n",
       "      <th>10</th>\n",
       "      <td>Westeros</td>\n",
       "      <td>wind_ppl</td>\n",
       "      <td>710</td>\n",
       "      <td>720</td>\n",
       "      <td>standard</td>\n",
       "      <td>year</td>\n",
       "      <td>0.000000</td>\n",
       "      <td>0.000000e+00</td>\n",
       "    </tr>\n",
       "    <tr>\n",
       "      <th>11</th>\n",
       "      <td>Westeros</td>\n",
       "      <td>wind_ppl</td>\n",
       "      <td>720</td>\n",
       "      <td>720</td>\n",
       "      <td>standard</td>\n",
       "      <td>year</td>\n",
       "      <td>0.000000</td>\n",
       "      <td>4.985480e+01</td>\n",
       "    </tr>\n",
       "    <tr>\n",
       "      <th>12</th>\n",
       "      <td>Westeros</td>\n",
       "      <td>grid</td>\n",
       "      <td>700</td>\n",
       "      <td>700</td>\n",
       "      <td>standard</td>\n",
       "      <td>year</td>\n",
       "      <td>111.111111</td>\n",
       "      <td>0.000000e+00</td>\n",
       "    </tr>\n",
       "    <tr>\n",
       "      <th>13</th>\n",
       "      <td>Westeros</td>\n",
       "      <td>grid</td>\n",
       "      <td>710</td>\n",
       "      <td>710</td>\n",
       "      <td>standard</td>\n",
       "      <td>year</td>\n",
       "      <td>166.666667</td>\n",
       "      <td>0.000000e+00</td>\n",
       "    </tr>\n",
       "    <tr>\n",
       "      <th>14</th>\n",
       "      <td>Westeros</td>\n",
       "      <td>grid</td>\n",
       "      <td>720</td>\n",
       "      <td>720</td>\n",
       "      <td>standard</td>\n",
       "      <td>year</td>\n",
       "      <td>211.111111</td>\n",
       "      <td>0.000000e+00</td>\n",
       "    </tr>\n",
       "    <tr>\n",
       "      <th>15</th>\n",
       "      <td>Westeros</td>\n",
       "      <td>bulb</td>\n",
       "      <td>700</td>\n",
       "      <td>700</td>\n",
       "      <td>standard</td>\n",
       "      <td>year</td>\n",
       "      <td>100.000000</td>\n",
       "      <td>0.000000e+00</td>\n",
       "    </tr>\n",
       "    <tr>\n",
       "      <th>16</th>\n",
       "      <td>Westeros</td>\n",
       "      <td>bulb</td>\n",
       "      <td>710</td>\n",
       "      <td>710</td>\n",
       "      <td>standard</td>\n",
       "      <td>year</td>\n",
       "      <td>150.000000</td>\n",
       "      <td>0.000000e+00</td>\n",
       "    </tr>\n",
       "    <tr>\n",
       "      <th>17</th>\n",
       "      <td>Westeros</td>\n",
       "      <td>bulb</td>\n",
       "      <td>720</td>\n",
       "      <td>720</td>\n",
       "      <td>standard</td>\n",
       "      <td>year</td>\n",
       "      <td>190.000000</td>\n",
       "      <td>0.000000e+00</td>\n",
       "    </tr>\n",
       "    <tr>\n",
       "      <th>18</th>\n",
       "      <td>Westeros</td>\n",
       "      <td>gas_ppl</td>\n",
       "      <td>690</td>\n",
       "      <td>700</td>\n",
       "      <td>standard</td>\n",
       "      <td>year</td>\n",
       "      <td>0.000000</td>\n",
       "      <td>4.940656e-324</td>\n",
       "    </tr>\n",
       "    <tr>\n",
       "      <th>19</th>\n",
       "      <td>Westeros</td>\n",
       "      <td>gas_ppl</td>\n",
       "      <td>700</td>\n",
       "      <td>700</td>\n",
       "      <td>standard</td>\n",
       "      <td>year</td>\n",
       "      <td>53.690864</td>\n",
       "      <td>0.000000e+00</td>\n",
       "    </tr>\n",
       "    <tr>\n",
       "      <th>20</th>\n",
       "      <td>Westeros</td>\n",
       "      <td>gas_ppl</td>\n",
       "      <td>700</td>\n",
       "      <td>710</td>\n",
       "      <td>standard</td>\n",
       "      <td>year</td>\n",
       "      <td>0.000000</td>\n",
       "      <td>4.940656e-324</td>\n",
       "    </tr>\n",
       "    <tr>\n",
       "      <th>21</th>\n",
       "      <td>Westeros</td>\n",
       "      <td>gas_ppl</td>\n",
       "      <td>710</td>\n",
       "      <td>710</td>\n",
       "      <td>standard</td>\n",
       "      <td>year</td>\n",
       "      <td>123.325879</td>\n",
       "      <td>0.000000e+00</td>\n",
       "    </tr>\n",
       "    <tr>\n",
       "      <th>22</th>\n",
       "      <td>Westeros</td>\n",
       "      <td>gas_ppl</td>\n",
       "      <td>710</td>\n",
       "      <td>720</td>\n",
       "      <td>standard</td>\n",
       "      <td>year</td>\n",
       "      <td>0.000000</td>\n",
       "      <td>4.940656e-324</td>\n",
       "    </tr>\n",
       "    <tr>\n",
       "      <th>23</th>\n",
       "      <td>Westeros</td>\n",
       "      <td>gas_ppl</td>\n",
       "      <td>720</td>\n",
       "      <td>720</td>\n",
       "      <td>standard</td>\n",
       "      <td>year</td>\n",
       "      <td>211.111111</td>\n",
       "      <td>0.000000e+00</td>\n",
       "    </tr>\n",
       "  </tbody>\n",
       "</table>\n",
       "</div>"
      ],
      "text/plain": [
       "    node_loc technology  year_vtg  year_act      mode  time         lvl  \\\n",
       "0   Westeros   coal_ppl       690       700  standard  year    3.729384   \n",
       "1   Westeros   coal_ppl       700       700  standard  year    0.000000   \n",
       "2   Westeros   coal_ppl       700       710  standard  year    0.000000   \n",
       "3   Westeros   coal_ppl       710       710  standard  year    0.000000   \n",
       "4   Westeros   coal_ppl       710       720  standard  year    0.000000   \n",
       "5   Westeros   coal_ppl       720       720  standard  year    0.000000   \n",
       "6   Westeros   wind_ppl       690       700  standard  year   10.350076   \n",
       "7   Westeros   wind_ppl       700       700  standard  year   43.340788   \n",
       "8   Westeros   wind_ppl       700       710  standard  year   43.340788   \n",
       "9   Westeros   wind_ppl       710       710  standard  year    0.000000   \n",
       "10  Westeros   wind_ppl       710       720  standard  year    0.000000   \n",
       "11  Westeros   wind_ppl       720       720  standard  year    0.000000   \n",
       "12  Westeros       grid       700       700  standard  year  111.111111   \n",
       "13  Westeros       grid       710       710  standard  year  166.666667   \n",
       "14  Westeros       grid       720       720  standard  year  211.111111   \n",
       "15  Westeros       bulb       700       700  standard  year  100.000000   \n",
       "16  Westeros       bulb       710       710  standard  year  150.000000   \n",
       "17  Westeros       bulb       720       720  standard  year  190.000000   \n",
       "18  Westeros    gas_ppl       690       700  standard  year    0.000000   \n",
       "19  Westeros    gas_ppl       700       700  standard  year   53.690864   \n",
       "20  Westeros    gas_ppl       700       710  standard  year    0.000000   \n",
       "21  Westeros    gas_ppl       710       710  standard  year  123.325879   \n",
       "22  Westeros    gas_ppl       710       720  standard  year    0.000000   \n",
       "23  Westeros    gas_ppl       720       720  standard  year  211.111111   \n",
       "\n",
       "              mrg  \n",
       "0    0.000000e+00  \n",
       "1    0.000000e+00  \n",
       "2    4.361237e+02  \n",
       "3    2.939095e+02  \n",
       "4    2.677421e+02  \n",
       "5    3.562203e+02  \n",
       "6    0.000000e+00  \n",
       "7    0.000000e+00  \n",
       "8    0.000000e+00  \n",
       "9    1.679289e+02  \n",
       "10   0.000000e+00  \n",
       "11   4.985480e+01  \n",
       "12   0.000000e+00  \n",
       "13   0.000000e+00  \n",
       "14   0.000000e+00  \n",
       "15   0.000000e+00  \n",
       "16   0.000000e+00  \n",
       "17   0.000000e+00  \n",
       "18  4.940656e-324  \n",
       "19   0.000000e+00  \n",
       "20  4.940656e-324  \n",
       "21   0.000000e+00  \n",
       "22  4.940656e-324  \n",
       "23   0.000000e+00  "
      ]
     },
     "execution_count": 138,
     "metadata": {},
     "output_type": "execute_result"
    }
   ],
   "source": [
    "activity = scen.var('ACT')\n",
    "activity"
   ]
  },
  {
   "cell_type": "code",
   "execution_count": 139,
   "id": "f6f239ba",
   "metadata": {},
   "outputs": [
    {
     "name": "stdout",
     "output_type": "stream",
     "text": [
      "Coal: 3.7293836914458893\n",
      "Wind: 97.03165131616447\n",
      "Gas: 388.1278538812786\n"
     ]
    }
   ],
   "source": [
    "print('Coal:', activity.loc[activity['technology'] == 'coal_ppl']['lvl'].sum())\n",
    "print('Wind:', activity.loc[activity['technology'] == 'wind_ppl']['lvl'].sum())\n",
    "print('Gas:', activity.loc[activity['technology'] == 'gas_ppl']['lvl'].sum())"
   ]
  },
  {
   "cell_type": "markdown",
   "id": "07ecc479",
   "metadata": {},
   "source": [
    "### Capacity\n",
    "How much capacity of each plant is installed in each period?"
   ]
  },
  {
   "cell_type": "code",
   "execution_count": 140,
   "id": "5d4a2cac",
   "metadata": {},
   "outputs": [
    {
     "data": {
      "text/plain": [
       "<AxesSubplot:title={'center':'Westeros Energy System Capacity'}, xlabel='Year', ylabel='GW'>"
      ]
     },
     "execution_count": 140,
     "metadata": {},
     "output_type": "execute_result"
    },
    {
     "data": {
      "image/png": "[encoded data removed]",
      "text/plain": [
       "<Figure size 432x288 with 1 Axes>"
      ]
     },
     "metadata": {
      "needs_background": "light"
     },
     "output_type": "display_data"
    }
   ],
   "source": [
    "# Create a different plot. The same filters are still active.\n",
    "rep.get(\"plot capacity\")"
   ]
  },
  {
   "cell_type": "code",
   "execution_count": 141,
   "id": "bc64155f",
   "metadata": {},
   "outputs": [
    {
     "data": {
      "text/html": [
       "<div>\n",
       "<style scoped>\n",
       "    .dataframe tbody tr th:only-of-type {\n",
       "        vertical-align: middle;\n",
       "    }\n",
       "\n",
       "    .dataframe tbody tr th {\n",
       "        vertical-align: top;\n",
       "    }\n",
       "\n",
       "    .dataframe thead th {\n",
       "        text-align: right;\n",
       "    }\n",
       "</style>\n",
       "<table border=\"1\" class=\"dataframe\">\n",
       "  <thead>\n",
       "    <tr style=\"text-align: right;\">\n",
       "      <th></th>\n",
       "      <th>node_loc</th>\n",
       "      <th>technology</th>\n",
       "      <th>year_vtg</th>\n",
       "      <th>year_act</th>\n",
       "      <th>lvl</th>\n",
       "      <th>mrg</th>\n",
       "    </tr>\n",
       "  </thead>\n",
       "  <tbody>\n",
       "    <tr>\n",
       "      <th>0</th>\n",
       "      <td>Westeros</td>\n",
       "      <td>coal_ppl</td>\n",
       "      <td>690</td>\n",
       "      <td>700</td>\n",
       "      <td>3.729384</td>\n",
       "      <td>0.000000</td>\n",
       "    </tr>\n",
       "    <tr>\n",
       "      <th>1</th>\n",
       "      <td>Westeros</td>\n",
       "      <td>coal_ppl</td>\n",
       "      <td>700</td>\n",
       "      <td>700</td>\n",
       "      <td>0.000000</td>\n",
       "      <td>386.086746</td>\n",
       "    </tr>\n",
       "    <tr>\n",
       "      <th>2</th>\n",
       "      <td>Westeros</td>\n",
       "      <td>coal_ppl</td>\n",
       "      <td>700</td>\n",
       "      <td>710</td>\n",
       "      <td>0.000000</td>\n",
       "      <td>0.000000</td>\n",
       "    </tr>\n",
       "    <tr>\n",
       "      <th>3</th>\n",
       "      <td>Westeros</td>\n",
       "      <td>coal_ppl</td>\n",
       "      <td>710</td>\n",
       "      <td>710</td>\n",
       "      <td>0.000000</td>\n",
       "      <td>379.238033</td>\n",
       "    </tr>\n",
       "    <tr>\n",
       "      <th>4</th>\n",
       "      <td>Westeros</td>\n",
       "      <td>coal_ppl</td>\n",
       "      <td>710</td>\n",
       "      <td>720</td>\n",
       "      <td>0.000000</td>\n",
       "      <td>0.000000</td>\n",
       "    </tr>\n",
       "    <tr>\n",
       "      <th>5</th>\n",
       "      <td>Westeros</td>\n",
       "      <td>coal_ppl</td>\n",
       "      <td>720</td>\n",
       "      <td>720</td>\n",
       "      <td>0.000000</td>\n",
       "      <td>0.000000</td>\n",
       "    </tr>\n",
       "    <tr>\n",
       "      <th>6</th>\n",
       "      <td>Westeros</td>\n",
       "      <td>wind_ppl</td>\n",
       "      <td>690</td>\n",
       "      <td>700</td>\n",
       "      <td>28.750211</td>\n",
       "      <td>0.000000</td>\n",
       "    </tr>\n",
       "    <tr>\n",
       "      <th>7</th>\n",
       "      <td>Westeros</td>\n",
       "      <td>wind_ppl</td>\n",
       "      <td>700</td>\n",
       "      <td>700</td>\n",
       "      <td>120.391077</td>\n",
       "      <td>0.000000</td>\n",
       "    </tr>\n",
       "    <tr>\n",
       "      <th>8</th>\n",
       "      <td>Westeros</td>\n",
       "      <td>wind_ppl</td>\n",
       "      <td>700</td>\n",
       "      <td>710</td>\n",
       "      <td>120.391077</td>\n",
       "      <td>0.000000</td>\n",
       "    </tr>\n",
       "    <tr>\n",
       "      <th>9</th>\n",
       "      <td>Westeros</td>\n",
       "      <td>wind_ppl</td>\n",
       "      <td>710</td>\n",
       "      <td>710</td>\n",
       "      <td>0.000000</td>\n",
       "      <td>0.000000</td>\n",
       "    </tr>\n",
       "    <tr>\n",
       "      <th>10</th>\n",
       "      <td>Westeros</td>\n",
       "      <td>wind_ppl</td>\n",
       "      <td>710</td>\n",
       "      <td>720</td>\n",
       "      <td>0.000000</td>\n",
       "      <td>0.000000</td>\n",
       "    </tr>\n",
       "    <tr>\n",
       "      <th>11</th>\n",
       "      <td>Westeros</td>\n",
       "      <td>wind_ppl</td>\n",
       "      <td>720</td>\n",
       "      <td>720</td>\n",
       "      <td>0.000000</td>\n",
       "      <td>0.000000</td>\n",
       "    </tr>\n",
       "    <tr>\n",
       "      <th>12</th>\n",
       "      <td>Westeros</td>\n",
       "      <td>bulb</td>\n",
       "      <td>700</td>\n",
       "      <td>700</td>\n",
       "      <td>100.000000</td>\n",
       "      <td>0.000000</td>\n",
       "    </tr>\n",
       "    <tr>\n",
       "      <th>13</th>\n",
       "      <td>Westeros</td>\n",
       "      <td>bulb</td>\n",
       "      <td>710</td>\n",
       "      <td>710</td>\n",
       "      <td>150.000000</td>\n",
       "      <td>0.000000</td>\n",
       "    </tr>\n",
       "    <tr>\n",
       "      <th>14</th>\n",
       "      <td>Westeros</td>\n",
       "      <td>bulb</td>\n",
       "      <td>720</td>\n",
       "      <td>720</td>\n",
       "      <td>190.000000</td>\n",
       "      <td>0.000000</td>\n",
       "    </tr>\n",
       "  </tbody>\n",
       "</table>\n",
       "</div>"
      ],
      "text/plain": [
       "    node_loc technology  year_vtg  year_act         lvl         mrg\n",
       "0   Westeros   coal_ppl       690       700    3.729384    0.000000\n",
       "1   Westeros   coal_ppl       700       700    0.000000  386.086746\n",
       "2   Westeros   coal_ppl       700       710    0.000000    0.000000\n",
       "3   Westeros   coal_ppl       710       710    0.000000  379.238033\n",
       "4   Westeros   coal_ppl       710       720    0.000000    0.000000\n",
       "5   Westeros   coal_ppl       720       720    0.000000    0.000000\n",
       "6   Westeros   wind_ppl       690       700   28.750211    0.000000\n",
       "7   Westeros   wind_ppl       700       700  120.391077    0.000000\n",
       "8   Westeros   wind_ppl       700       710  120.391077    0.000000\n",
       "9   Westeros   wind_ppl       710       710    0.000000    0.000000\n",
       "10  Westeros   wind_ppl       710       720    0.000000    0.000000\n",
       "11  Westeros   wind_ppl       720       720    0.000000    0.000000\n",
       "12  Westeros       bulb       700       700  100.000000    0.000000\n",
       "13  Westeros       bulb       710       710  150.000000    0.000000\n",
       "14  Westeros       bulb       720       720  190.000000    0.000000"
      ]
     },
     "execution_count": 141,
     "metadata": {},
     "output_type": "execute_result"
    }
   ],
   "source": [
    "capacity = scen.var('CAP')\n",
    "capacity"
   ]
  },
  {
   "cell_type": "code",
   "execution_count": 142,
   "id": "9d82f0e9",
   "metadata": {},
   "outputs": [
    {
     "name": "stdout",
     "output_type": "stream",
     "text": [
      "Coal: 3.7293836914458893\n",
      "Wind: 269.5323647671235\n",
      "Gas: 0.0\n"
     ]
    }
   ],
   "source": [
    "print('Coal:', capacity.loc[capacity['technology'] == 'coal_ppl']['lvl'].sum())\n",
    "print('Wind:', capacity.loc[capacity['technology'] == 'wind_ppl']['lvl'].sum())\n",
    "print('Gas:', capacity.loc[capacity['technology'] == 'gas_ppl']['lvl'].sum())"
   ]
  },
  {
   "cell_type": "markdown",
   "id": "dc306a1a",
   "metadata": {},
   "source": [
    "### Emissions"
   ]
  },
  {
   "cell_type": "code",
   "execution_count": 143,
   "id": "6267a4ac",
   "metadata": {},
   "outputs": [
    {
     "data": {
      "text/plain": [
       "5178.482549866276"
      ]
     },
     "execution_count": 143,
     "metadata": {},
     "output_type": "execute_result"
    }
   ],
   "source": [
    "scen.var('EMISS')['lvl'].sum()"
   ]
  },
  {
   "cell_type": "markdown",
   "id": "9240e0c8",
   "metadata": {},
   "source": [
    "## Cocnlusions\n",
    "The total costs are increasing tremendeously. However, the coal power plant is hardly used and more or less no more new coal plants are built. On the other side, the gas power plant  supplies the greatest part in the first decade. As the time passes more and more wind farms are built to meet the energy demand.\n",
    "This is a prime example for energy transition towards renewables, where at the current state most demand is satisfied with fossil fuels but in the upcoming decades only wind power is built "
   ]
  },
  {
   "cell_type": "markdown",
   "id": "5945f022",
   "metadata": {},
   "source": [
    "## Close connection to database"
   ]
  },
  {
   "cell_type": "code",
   "execution_count": null,
   "id": "e57ef162",
   "metadata": {},
   "outputs": [],
   "source": [
    "mp.close_db()"
   ]
  }
 ],
 "metadata": {
  "kernelspec": {
   "display_name": "Python 3",
   "language": "python",
   "name": "python3"
  },
  "language_info": {
   "codemirror_mode": {
    "name": "ipython",
    "version": 3
   },
   "file_extension": ".py",
   "mimetype": "text/x-python",
   "name": "python",
   "nbconvert_exporter": "python",
   "pygments_lexer": "ipython3",
   "version": "3.8.10"
  }
 },
 "nbformat": 4,
 "nbformat_minor": 5
}
